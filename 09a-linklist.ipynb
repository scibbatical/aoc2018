{
 "cells": [
  {
   "cell_type": "code",
   "execution_count": 1,
   "metadata": {
    "collapsed": true
   },
   "outputs": [],
   "source": [
    "import numpy as np\n",
    "import matplotlib.pyplot as plt\n",
    "\n",
    "import pandas as pd\n",
    "\n",
    "%matplotlib inline"
   ]
  },
  {
   "cell_type": "markdown",
   "metadata": {},
   "source": [
    "    9 players; last marble is worth 25 points: high score is 32\n",
    "    10 players; last marble is worth 1618 points: high score is 8317\n",
    "    13 players; last marble is worth 7999 points: high score is 146373\n",
    "    17 players; last marble is worth 1104 points: high score is 2764\n",
    "    21 players; last marble is worth 6111 points: high score is 54718\n",
    "    30 players; last marble is worth 5807 points: high score is 37305\n",
    "\n",
    "\n",
    "# my input data: 404 players; last marble is worth 71852 points"
   ]
  },
  {
   "cell_type": "code",
   "execution_count": 2,
   "metadata": {
    "collapsed": true
   },
   "outputs": [],
   "source": [
    "# define a function that rings indicies clockwise\n",
    "def cw(track,idx,deltaidx): # only works for a single trip past the post\n",
    "    tracklen = len(track)\n",
    "    if idx + deltaidx < tracklen:\n",
    "        return idx+deltaidx\n",
    "    else:\n",
    "        return (idx + deltaidx) - tracklen\n",
    "\n",
    "# define a function that rings indicies counterclockwise\n",
    "def ccw(track,idx,deltaidx): # only works for a single trip past the post\n",
    "    tracklen = len(track)\n",
    "    if idx - deltaidx >= 0:\n",
    "        return idx - deltaidx\n",
    "    else:\n",
    "        return len(track) + (idx - deltaidx) #idx - deltaidx\n",
    "    \n",
    "# define a function that returns the active player\n",
    "def playnext(player):\n",
    "    if player == np.nan:\n",
    "        return 1\n",
    "    elif player < numberofplayers:\n",
    "        return player + 1\n",
    "    else:\n",
    "        return 1"
   ]
  },
  {
   "cell_type": "code",
   "execution_count": 3,
   "metadata": {
    "collapsed": false
   },
   "outputs": [
    {
     "data": {
      "text/plain": [
       "array([ 8317.])"
      ]
     },
     "execution_count": 3,
     "metadata": {},
     "output_type": "execute_result"
    }
   ],
   "source": [
    "numberofplayers = 10\n",
    "lastmarble = 1618\n",
    "\n",
    "active = 1\n",
    "marble = 2\n",
    "player = 2\n",
    "ring = [0,2,1]\n",
    "scores = np.zeros((numberofplayers+1,1))\n",
    "\n",
    "while marble < lastmarble:\n",
    "    #begin phase\n",
    "    player = playnext(player)\n",
    "    marble += 1\n",
    "    \n",
    "    if marble%23 != 0: #regular scenario\n",
    "        ring.insert(cw(ring,active,1)+1,marble)\n",
    "        active = np.argmax(np.array(ring))\n",
    "    else:\n",
    "        scores[player] += marble\n",
    "        scores[player] += ring[ccw(ring,active,7)]\n",
    "        active = ccw(ring,active,7)\n",
    "        del ring[active]\n",
    "        if active > len(ring):\n",
    "            active = 0\n",
    "\n",
    "    \n",
    "#ring,player,active,marble\n",
    "\n",
    "max(scores)\n",
    "\n"
   ]
  },
  {
   "cell_type": "code",
   "execution_count": 4,
   "metadata": {
    "collapsed": false
   },
   "outputs": [
    {
     "data": {
      "text/plain": [
       "array([[    0.],\n",
       "       [ 7738.],\n",
       "       [ 6857.],\n",
       "       [ 6395.],\n",
       "       [ 7896.],\n",
       "       [ 7173.],\n",
       "       [ 6996.],\n",
       "       [ 7932.],\n",
       "       [ 7552.],\n",
       "       [ 7503.],\n",
       "       [ 8317.]])"
      ]
     },
     "execution_count": 4,
     "metadata": {},
     "output_type": "execute_result"
    }
   ],
   "source": [
    "scores"
   ]
  },
  {
   "cell_type": "code",
   "execution_count": null,
   "metadata": {
    "collapsed": true
   },
   "outputs": [],
   "source": [
    "# This approach isn't scalable for part 2! I need to use a double-linked list (aka nodes?)"
   ]
  },
  {
   "cell_type": "code",
   "execution_count": null,
   "metadata": {
    "collapsed": true
   },
   "outputs": [],
   "source": []
  },
  {
   "cell_type": "code",
   "execution_count": null,
   "metadata": {
    "collapsed": true
   },
   "outputs": [],
   "source": []
  },
  {
   "cell_type": "code",
   "execution_count": 75,
   "metadata": {
    "collapsed": false
   },
   "outputs": [],
   "source": [
    "'''\n",
    "P0. Implement a linked list\n",
    "'''\n",
    "\n",
    "class Node:\n",
    "    def __init__(self,val):\n",
    "        self.val = val\n",
    "        self.next = None # the pointer initially points to nothing\n",
    "        \n",
    "    def traverse(self):\n",
    "        node = self\n",
    "        while node != None:\n",
    "            print(node.val)\n",
    "            node = node.next\n",
    "            \n",
    "    def remove_duplicates(self):\n",
    "        els = []\n",
    "        node = self\n",
    "        previous = None\n",
    "        while node != None:\n",
    "            if node.val in els:\n",
    "                previous.next = node.next\n",
    "            else:\n",
    "                els.append(node.val)\n",
    "            previous = node\n",
    "            node = node.next\n",
    "            \n",
    "    def kth_to_last(self,k):\n",
    "        if k < 0:\n",
    "            return None\n",
    "        p1 = self\n",
    "        p2 = self\n",
    "        i = -1\n",
    "        while p1 != None:\n",
    "            p1 = p1.next\n",
    "            if i < k:\n",
    "                i += 1\n",
    "            else:\n",
    "                p2 = p2.next\n",
    "        if i == k:\n",
    "            return p2.val\n",
    "        else:\n",
    "            return None\n",
    "        \n",
    "    def kth(self,k):\n",
    "        if k < 0:\n",
    "            return None\n",
    "        if k == 0:\n",
    "            return self.val\n",
    "        p1 = self\n",
    "        i = 0\n",
    "        while p1 != None:\n",
    "            i += 1\n",
    "            p1 = p1.next\n",
    "            if i == k:\n",
    "                return p1.val\n",
    "            if i > k:\n",
    "                return None\n",
    "            \n",
    "            \n",
    "            "
   ]
  },
  {
   "cell_type": "code",
   "execution_count": 76,
   "metadata": {
    "collapsed": true
   },
   "outputs": [],
   "source": [
    "node1 = Node(1)\n",
    "node2 = Node(2)\n",
    "node3 = Node(3)\n",
    "node4 = Node(1)\n",
    "node1.next = node2\n",
    "node2.next = node3\n",
    "node3.next = node4"
   ]
  },
  {
   "cell_type": "code",
   "execution_count": 77,
   "metadata": {
    "collapsed": false
   },
   "outputs": [
    {
     "data": {
      "text/plain": [
       "1"
      ]
     },
     "execution_count": 77,
     "metadata": {},
     "output_type": "execute_result"
    }
   ],
   "source": [
    "\n",
    "node2.kth_to_last(0)"
   ]
  },
  {
   "cell_type": "code",
   "execution_count": 78,
   "metadata": {
    "collapsed": false
   },
   "outputs": [
    {
     "ename": "AttributeError",
     "evalue": "'NoneType' object has no attribute 'val'",
     "output_type": "error",
     "traceback": [
      "\u001b[1;31m---------------------------------------------------------------------------\u001b[0m",
      "\u001b[1;31mAttributeError\u001b[0m                            Traceback (most recent call last)",
      "\u001b[1;32m<ipython-input-78-5b02ec5c3b1b>\u001b[0m in \u001b[0;36m<module>\u001b[1;34m()\u001b[0m\n\u001b[1;32m----> 1\u001b[1;33m \u001b[0mnode1\u001b[0m\u001b[1;33m.\u001b[0m\u001b[0mkth\u001b[0m\u001b[1;33m(\u001b[0m\u001b[1;36m4\u001b[0m\u001b[1;33m)\u001b[0m\u001b[1;33m\u001b[0m\u001b[0m\n\u001b[0m",
      "\u001b[1;32m<ipython-input-75-1f385b85cf31>\u001b[0m in \u001b[0;36mkth\u001b[1;34m(self, k)\u001b[0m\n\u001b[0;32m     54\u001b[0m             \u001b[0mp1\u001b[0m \u001b[1;33m=\u001b[0m \u001b[0mp1\u001b[0m\u001b[1;33m.\u001b[0m\u001b[0mnext\u001b[0m\u001b[1;33m\u001b[0m\u001b[0m\n\u001b[0;32m     55\u001b[0m             \u001b[1;32mif\u001b[0m \u001b[0mi\u001b[0m \u001b[1;33m==\u001b[0m \u001b[0mk\u001b[0m\u001b[1;33m:\u001b[0m\u001b[1;33m\u001b[0m\u001b[0m\n\u001b[1;32m---> 56\u001b[1;33m                 \u001b[1;32mreturn\u001b[0m \u001b[0mp1\u001b[0m\u001b[1;33m.\u001b[0m\u001b[0mval\u001b[0m\u001b[1;33m\u001b[0m\u001b[0m\n\u001b[0m\u001b[0;32m     57\u001b[0m             \u001b[1;32mif\u001b[0m \u001b[0mi\u001b[0m \u001b[1;33m>\u001b[0m \u001b[0mk\u001b[0m\u001b[1;33m:\u001b[0m\u001b[1;33m\u001b[0m\u001b[0m\n\u001b[0;32m     58\u001b[0m                 \u001b[1;32mreturn\u001b[0m \u001b[1;32mNone\u001b[0m\u001b[1;33m\u001b[0m\u001b[0m\n",
      "\u001b[1;31mAttributeError\u001b[0m: 'NoneType' object has no attribute 'val'"
     ]
    }
   ],
   "source": [
    "node1.kth(4)"
   ]
  },
  {
   "cell_type": "code",
   "execution_count": null,
   "metadata": {
    "collapsed": true
   },
   "outputs": [],
   "source": []
  }
 ],
 "metadata": {
  "anaconda-cloud": {},
  "kernelspec": {
   "display_name": "Python [Root]",
   "language": "python",
   "name": "Python [Root]"
  },
  "language_info": {
   "codemirror_mode": {
    "name": "ipython",
    "version": 3
   },
   "file_extension": ".py",
   "mimetype": "text/x-python",
   "name": "python",
   "nbconvert_exporter": "python",
   "pygments_lexer": "ipython3",
   "version": "3.5.5"
  }
 },
 "nbformat": 4,
 "nbformat_minor": 2
}
