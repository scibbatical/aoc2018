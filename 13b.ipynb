{
 "cells": [
  {
   "cell_type": "code",
   "execution_count": 1,
   "metadata": {
    "collapsed": true
   },
   "outputs": [],
   "source": [
    "import numpy as np\n",
    "import matplotlib.pyplot as plt\n",
    "\n",
    "import pandas as pd\n",
    "\n",
    "%matplotlib inline"
   ]
  },
  {
   "cell_type": "code",
   "execution_count": 193,
   "metadata": {
    "collapsed": false
   },
   "outputs": [],
   "source": [
    "datain = np.loadtxt('13a_input.txt',comments=None,delimiter='\\n',dtype=str)#,usecols=(0,2))#,delimiter=' ')\n",
    "#datain = np.loadtxt('13a_input_test.txt',comments=None,delimiter='\\n',dtype=str)#,usecols=(0,2))#,delimiter=' ')#"
   ]
  },
  {
   "cell_type": "code",
   "execution_count": 261,
   "metadata": {
    "collapsed": false
   },
   "outputs": [
    {
     "data": {
      "text/plain": [
       "array([[' ', ' ', ' ', ..., ' ', ' ', ' '],\n",
       "       [' ', ' ', ' ', ..., ' ', ' ', ' '],\n",
       "       [' ', ' ', ' ', ..., ' ', ' ', ' '],\n",
       "       ...,\n",
       "       [' ', ' ', ' ', ..., ' ', ' ', ' '],\n",
       "       [' ', ' ', ' ', ..., ' ', ' ', ' '],\n",
       "       [' ', ' ', ' ', ..., ' ', ' ', ' ']], dtype='<U32')"
      ]
     },
     "execution_count": 261,
     "metadata": {},
     "output_type": "execute_result"
    }
   ],
   "source": [
    "arrdatain = np.zeros((len(datain[0]),len(datain))).astype(str)\n",
    "\n",
    "#convert datain to np array\n",
    "for i in range(arrdatain.shape[0]):\n",
    "    for j in range(arrdatain.shape[1]):\n",
    "        arrdatain[i,j] = datain[j][i]\n",
    "        \n",
    "arrdatain.T"
   ]
  },
  {
   "cell_type": "code",
   "execution_count": 262,
   "metadata": {
    "collapsed": false
   },
   "outputs": [],
   "source": [
    "# Find carts, note their position and direction, replace them with tracks\n",
    "cars = []\n",
    "\n",
    "for i in range(arrdatain.shape[0]):\n",
    "    for j in range(arrdatain.shape[1]):\n",
    "        if arrdatain[i,j] == '>':\n",
    "            cars.append([i,j,'r'])\n",
    "            arrdatain[i,j] = '-'\n",
    "            \n",
    "        if arrdatain[i,j] == 'v':\n",
    "            cars.append([i,j,'d'])\n",
    "            arrdatain[i,j] = '|' \n",
    "            \n",
    "        if arrdatain[i,j] == '<':\n",
    "            cars.append([i,j,'l'])\n",
    "            arrdatain[i,j] = '-' \n",
    "            \n",
    "        if arrdatain[i,j] == '^':\n",
    "            cars.append([i,j,'u'])\n",
    "            arrdatain[i,j] = '|'\n",
    "            \n",
    "#cars\n",
    "#print(arrdatain.T)"
   ]
  },
  {
   "cell_type": "code",
   "execution_count": 263,
   "metadata": {
    "collapsed": false
   },
   "outputs": [],
   "source": [
    "class Cars:\n",
    "    def __init__(self,xy):\n",
    "        self.xy = np.array(xy) # location of car\n",
    "        self.udlr = None # direction of travel: 'u','d','l','r'\n",
    "        self.nxturn = 'L' # at intersections, the cars always turn L=>S=>R=>L=>... etc.\n",
    "        \n",
    "    def move(self):\n",
    "        if self.udlr == 'u':\n",
    "            self.xy += np.array([0,-1])\n",
    "            if arrdatain[self.xy[0],self.xy[1]] == '/':\n",
    "                self.cw()\n",
    "            elif arrdatain[self.xy[0],self.xy[1]] == '\\\\':\n",
    "                self.ccw()\n",
    "            elif arrdatain[self.xy[0],self.xy[1]] == '+':\n",
    "                self.turn()\n",
    "            \n",
    "        elif self.udlr == 'd':\n",
    "            self.xy += np.array([0,1])\n",
    "            if arrdatain[self.xy[0],self.xy[1]] == '/':\n",
    "                self.cw()\n",
    "            elif arrdatain[self.xy[0],self.xy[1]] == '\\\\':\n",
    "                self.ccw()\n",
    "            elif arrdatain[self.xy[0],self.xy[1]] == '+':\n",
    "                self.turn()\n",
    "            \n",
    "        elif self.udlr == 'l':\n",
    "            self.xy += np.array([-1,0])\n",
    "            if arrdatain[self.xy[0],self.xy[1]] == '/':\n",
    "                self.ccw()\n",
    "            elif arrdatain[self.xy[0],self.xy[1]] == '\\\\':\n",
    "                self.cw()\n",
    "            elif arrdatain[self.xy[0],self.xy[1]] == '+':\n",
    "                self.turn()\n",
    "            \n",
    "        elif self.udlr == 'r':\n",
    "            self.xy += np.array([1,0])\n",
    "            if arrdatain[self.xy[0],self.xy[1]] == '/':\n",
    "                self.ccw()\n",
    "            elif arrdatain[self.xy[0],self.xy[1]] == '\\\\':\n",
    "                self.cw()\n",
    "            elif arrdatain[self.xy[0],self.xy[1]] == '+':\n",
    "                self.turn()\n",
    "\n",
    "            \n",
    "    \n",
    "    def cw(self):\n",
    "        self.udlr = ['u','r','d','l','u'][['u','r','d','l','u'].index(self.udlr)+1]\n",
    "        \n",
    "    def ccw(self):\n",
    "        self.udlr = ['u','l','d','r','u'][['u','l','d','r','u'].index(self.udlr)+1]\n",
    "        \n",
    "    def turn(self):\n",
    "        if self.nxturn == 'L':\n",
    "            self.ccw()\n",
    "        elif self.nxturn == 'R':\n",
    "            self.cw()\n",
    "        \n",
    "        self.nxturn = ['L','S','R','L'][['L','S','R','L'].index(self.nxturn)+1]\n",
    "\n",
    "\n",
    "def coll_search(car_dictionary):\n",
    "    # Test for collision using dictionary sets returns True when collision occurrs \n",
    "    list_xy = [] # initialize list\n",
    "    for key,item in car_dictionary.items():\n",
    "        list_xy.append(str(item.xy.tolist())) # populate list with strings\n",
    "        \n",
    "    return len(set(list_xy)) != len(list_xy)\n",
    "\n",
    "def coll_loc (car_dictionary):\n",
    "    # find the location of the collision \n",
    "    list_xy = [] # initialize list\n",
    "    for key,item in car_dictionary.items():\n",
    "        list_xy.append(str(item.xy.tolist())) # populate list with strings\n",
    "        \n",
    "    seen = {}\n",
    "    dupes = []\n",
    "\n",
    "    for item in list_xy:\n",
    "        if item not in seen:\n",
    "            seen[item] = 1\n",
    "        else:\n",
    "            if seen[item] == 1:\n",
    "                dupes.append(item)\n",
    "            seen[item] += 1\n",
    "    \n",
    "    return dupes\n",
    "\n",
    "def pop_dupes (car_dictionary):\n",
    "    dupes = str(coll_loc(car_dictionary)[0])\n",
    "    new_dictionary = {}\n",
    "    list_xy = [] # initialize list\n",
    "    for key,item in car_dictionary.items():\n",
    "        #print(dupes==str(item.xy.tolist()))\n",
    "        if str(item.xy.tolist()) != dupes:\n",
    "            new_dictionary[key] = item\n",
    "            \n",
    "    print(new_dictionary.keys())\n",
    "            \n",
    "    return new_dictionary\n",
    "\n",
    "\n",
    "\n",
    "def findorder(car_dictionary):\n",
    "    # Sort cars by coordinate on y coordinate, then x coordinate\n",
    "    dtype = [('car', int), ('x', int), ('y', int)]\n",
    "    arr_car = np.zeros((len(car_dictionary))).astype(dtype)\n",
    "    for i,car in enumerate(car_dictionary):\n",
    "        arr_car[i] = car,car_dictionary[car].xy[0],car_dictionary[car].xy[1]\n",
    "\n",
    "    # Then sort\n",
    "    arr_car = np.sort(arr_car, order=['y', 'x'])\n",
    "\n",
    "    # Then extract the order\n",
    "    order = []\n",
    "    for i in range(len(cdic)):\n",
    "        order.append(arr_car[i][0])\n",
    "        \n",
    "    return order"
   ]
  },
  {
   "cell_type": "code",
   "execution_count": 264,
   "metadata": {
    "collapsed": false
   },
   "outputs": [],
   "source": [
    "# Create a Car object for each car and a dictionary to find them\n",
    "\n",
    "cdic = {}\n",
    "\n",
    "for i in range(len(cars)):\n",
    "    vars()['car'+str(i)] = Cars(i)\n",
    "    cdic[i] = vars()['car'+str(i)]\n",
    "    vars()['car'+str(i)].xy = np.array([cars[i][0],cars[i][1]])\n",
    "    vars()['car'+str(i)].udlr = cars[i][2]\n",
    "    \n",
    " "
   ]
  },
  {
   "cell_type": "code",
   "execution_count": 265,
   "metadata": {
    "collapsed": false,
    "scrolled": false
   },
   "outputs": [
    {
     "name": "stdout",
     "output_type": "stream",
     "text": [
      "Collision Detected at:\n",
      "['[124, 130]']\n",
      "dict_keys([0, 2, 3, 4, 5, 6, 7, 8, 9, 10, 11, 12, 13, 15, 16])\n",
      "Collision Detected at:\n",
      "['[93, 10]']\n",
      "dict_keys([0, 2, 3, 4, 5, 6, 7, 8, 9, 10, 12, 13, 16])\n",
      "Collision Detected at:\n",
      "['[57, 144]']\n",
      "dict_keys([0, 16, 3, 4, 5, 6, 7, 8, 9, 12, 13])\n",
      "Collision Detected at:\n",
      "['[116, 92]']\n",
      "dict_keys([16, 3, 4, 5, 6, 8, 9, 12, 13])\n",
      "Collision Detected at:\n",
      "['[129, 82]']\n",
      "dict_keys([16, 3, 4, 5, 6, 8, 12])\n",
      "Collision Detected at:\n",
      "['[125, 115]']\n",
      "dict_keys([16, 8, 4, 5, 12])\n",
      "Collision Detected at:\n",
      "['[102, 110]']\n",
      "dict_keys([16, 8, 4])\n",
      "Collision Detected at:\n",
      "['[78, 33]']\n",
      "dict_keys([16])\n",
      "[143 123]\n"
     ]
    }
   ],
   "source": [
    "# Run this:\n",
    "\n",
    "#run = True\n",
    "#tick = 0\n",
    "\n",
    "while len(cdic) > 1:\n",
    "    \n",
    "    order = findorder(cdic)\n",
    "    #print(order)\n",
    "\n",
    "    for car in order:\n",
    "        try:\n",
    "            cdic[car].move()\n",
    "        except KeyError:\n",
    "            pass\n",
    "    \n",
    "        #print('car',car,cdic[car].xy)\n",
    "        if coll_search(cdic) == True:\n",
    "            print('Collision Detected at:')\n",
    "            print(coll_loc(cdic))\n",
    "            #run = False\n",
    "            cdic = pop_dupes(cdic)\n",
    "            \n",
    "    tick += 1\n",
    "    \n",
    "for car in cdic:\n",
    "    print(vars()['car'+str(car)].xy)\n",
    "  \n",
    "    \n",
    "    \n"
   ]
  },
  {
   "cell_type": "code",
   "execution_count": null,
   "metadata": {
    "collapsed": true
   },
   "outputs": [],
   "source": []
  }
 ],
 "metadata": {
  "anaconda-cloud": {},
  "kernelspec": {
   "display_name": "Python [default]",
   "language": "python",
   "name": "python3"
  },
  "language_info": {
   "codemirror_mode": {
    "name": "ipython",
    "version": 3
   },
   "file_extension": ".py",
   "mimetype": "text/x-python",
   "name": "python",
   "nbconvert_exporter": "python",
   "pygments_lexer": "ipython3",
   "version": "3.5.5"
  }
 },
 "nbformat": 4,
 "nbformat_minor": 1
}
