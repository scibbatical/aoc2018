{
 "cells": [
  {
   "cell_type": "code",
   "execution_count": 5,
   "metadata": {
    "collapsed": true
   },
   "outputs": [],
   "source": [
    "import numpy as np\n",
    "import matplotlib.pyplot as plt\n",
    "\n",
    "import pandas as pd\n",
    "\n",
    "%matplotlib inline"
   ]
  },
  {
   "cell_type": "markdown",
   "metadata": {},
   "source": [
    "### Test cases\n",
    "    9 players; last marble is worth 25 points: high score is 32    \n",
    "    10 players; last marble is worth 1618 points: high score is 8317\n",
    "    13 players; last marble is worth 7999 points: high score is 146373\n",
    "    17 players; last marble is worth 1104 points: high score is 2764\n",
    "    21 players; last marble is worth 6111 points: high score is 54718\n",
    "    30 players; last marble is worth 5807 points: high score is 37305\n",
    "\n",
    "\n",
    "### my input data:\n",
    "    ### 404 players; last marble is worth 71852 points"
   ]
  },
  {
   "cell_type": "code",
   "execution_count": 168,
   "metadata": {
    "collapsed": false
   },
   "outputs": [],
   "source": [
    "'''\n",
    "P0. Implement a ringed list\n",
    "'''\n",
    "\n",
    "class RNode:\n",
    "    def __init__(self,val):\n",
    "        self.val = val\n",
    "        self.next = None\n",
    "        self.last = None# the pointer initially points to nothing\n",
    "        \n",
    "    def newmarb(self,k):\n",
    "        for i in range(1): # advance active \n",
    "            activenode = self.next\n",
    "        newnode = RNode(k) # create a new node\n",
    "        newnode.next = activenode.next # place new node behind (node in front of active node)\n",
    "        newnode.last = activenode # place new node in front of active node\n",
    "        \n",
    "        activenode.next = newnode # reassign the node in front of active to be new node\n",
    "        activenode.next.next.last = newnode # reassign the node behind (the node in front of new node) to be the new node\n",
    "        \n",
    "        return newnode, activenode.next # advance active to new node\n",
    "    \n",
    "    def scoremarb(self,k):\n",
    "        activenode = self\n",
    "        for i in range(6): # find new active marble\n",
    "            activenode = activenode.last\n",
    "        # find score: retrieve score of previous marble and add k\n",
    "        score = activenode.last.val + k\n",
    "\n",
    "        # un-link node behind active by relinking the adjacent nodes\n",
    "        activenode.last.last.next = activenode\n",
    "        activenode.last = activenode.last.last\n",
    "        \n",
    "        return score,activenode\n",
    "            \n",
    "            "
   ]
  },
  {
   "cell_type": "code",
   "execution_count": 172,
   "metadata": {
    "collapsed": false
   },
   "outputs": [
    {
     "name": "stdout",
     "output_type": "stream",
     "text": [
      "Winning score: [  3.65399458e+09]\n"
     ]
    }
   ],
   "source": [
    "# Set the play up.\n",
    "numberofplayers = 404\n",
    "lastmarble = 7185200\n",
    "scores = np.zeros((numberofplayers+1,1))\n",
    "\n",
    "\n",
    "# To keep track of player turn\n",
    "def playnext(player):\n",
    "    if player == np.nan:\n",
    "        return 1\n",
    "    elif player < numberofplayers:\n",
    "        return player + 1\n",
    "    else:\n",
    "        return 1\n",
    "\n",
    "\n",
    "\n",
    "# Initialize the ring... might have only needed the first node, but meh!\n",
    "node0 = RNode(0)\n",
    "node2 = RNode(2)\n",
    "node1 = RNode(1)\n",
    "\n",
    "node0.next = node2\n",
    "node0.last = node1\n",
    "node1.next = node0\n",
    "node1.last = node2\n",
    "node2.next = node1\n",
    "node2.last = node0\n",
    "\n",
    "activen = node2\n",
    "player = 2\n",
    "\n",
    "#Run for many plays\n",
    "\n",
    "for i in range(3,lastmarble):\n",
    "    player = playnext(player)\n",
    "    if i%23 ==0:\n",
    "        playerscore,activen = activen.scoremarb(i)\n",
    "        #add playerscore to the array of scores\n",
    "        scores[player] += playerscore\n",
    "    else:\n",
    "        vars()['node'+str(i)],activen = activen.newmarb(i)\n",
    "        \n",
    "print('Winning score:',max(scores))"
   ]
  },
  {
   "cell_type": "code",
   "execution_count": 175,
   "metadata": {
    "collapsed": false
   },
   "outputs": [
    {
     "data": {
      "text/plain": [
       "'3653994575.000000'"
      ]
     },
     "execution_count": 175,
     "metadata": {},
     "output_type": "execute_result"
    }
   ],
   "source": [
    "'%f' % max(scores)"
   ]
  },
  {
   "cell_type": "markdown",
   "metadata": {},
   "source": [
    "I originally solved this problem using an array. It was doable for Part 1, but did not scale for Part 2. The array solution is below."
   ]
  },
  {
   "cell_type": "code",
   "execution_count": 2,
   "metadata": {
    "collapsed": true
   },
   "outputs": [],
   "source": [
    "# define a function that rings indicies clockwise\n",
    "def cw(track,idx,deltaidx): # only works for a single trip past the post\n",
    "    tracklen = len(track)\n",
    "    if idx + deltaidx < tracklen:\n",
    "        return idx+deltaidx\n",
    "    else:\n",
    "        return (idx + deltaidx) - tracklen\n",
    "\n",
    "# define a function that rings indicies counterclockwise\n",
    "def ccw(track,idx,deltaidx): # only works for a single trip past the post\n",
    "    tracklen = len(track)\n",
    "    if idx - deltaidx >= 0:\n",
    "        return idx - deltaidx\n",
    "    else:\n",
    "        return len(track) + (idx - deltaidx) #idx - deltaidx\n",
    "    \n",
    "# define a function that returns the active player\n",
    "def playnext(player):\n",
    "    if player == np.nan:\n",
    "        return 1\n",
    "    elif player < numberofplayers:\n",
    "        return player + 1\n",
    "    else:\n",
    "        return 1"
   ]
  },
  {
   "cell_type": "code",
   "execution_count": 3,
   "metadata": {
    "collapsed": false
   },
   "outputs": [
    {
     "data": {
      "text/plain": [
       "array([ 8317.])"
      ]
     },
     "execution_count": 3,
     "metadata": {},
     "output_type": "execute_result"
    }
   ],
   "source": [
    "numberofplayers = 10\n",
    "lastmarble = 1618\n",
    "\n",
    "active = 1\n",
    "marble = 2\n",
    "player = 2\n",
    "ring = [0,2,1]\n",
    "scores = np.zeros((numberofplayers+1,1))\n",
    "\n",
    "while marble < lastmarble:\n",
    "    #begin phase\n",
    "    player = playnext(player)\n",
    "    marble += 1\n",
    "    \n",
    "    if marble%23 != 0: #regular scenario\n",
    "        ring.insert(cw(ring,active,1)+1,marble)\n",
    "        active = np.argmax(np.array(ring))\n",
    "    else:\n",
    "        scores[player] += marble\n",
    "        scores[player] += ring[ccw(ring,active,7)]\n",
    "        active = ccw(ring,active,7)\n",
    "        del ring[active]\n",
    "        if active > len(ring):\n",
    "            active = 0\n",
    "\n",
    "    \n",
    "#ring,player,active,marble\n",
    "\n",
    "max(scores)\n",
    "\n"
   ]
  },
  {
   "cell_type": "code",
   "execution_count": 4,
   "metadata": {
    "collapsed": false,
    "scrolled": false
   },
   "outputs": [
    {
     "data": {
      "text/plain": [
       "array([[    0.],\n",
       "       [ 7738.],\n",
       "       [ 6857.],\n",
       "       [ 6395.],\n",
       "       [ 7896.],\n",
       "       [ 7173.],\n",
       "       [ 6996.],\n",
       "       [ 7932.],\n",
       "       [ 7552.],\n",
       "       [ 7503.],\n",
       "       [ 8317.]])"
      ]
     },
     "execution_count": 4,
     "metadata": {},
     "output_type": "execute_result"
    }
   ],
   "source": [
    "scores"
   ]
  }
 ],
 "metadata": {
  "anaconda-cloud": {},
  "kernelspec": {
   "display_name": "Python [Root]",
   "language": "python",
   "name": "Python [Root]"
  },
  "language_info": {
   "codemirror_mode": {
    "name": "ipython",
    "version": 3
   },
   "file_extension": ".py",
   "mimetype": "text/x-python",
   "name": "python",
   "nbconvert_exporter": "python",
   "pygments_lexer": "ipython3",
   "version": "3.5.5"
  }
 },
 "nbformat": 4,
 "nbformat_minor": 2
}
