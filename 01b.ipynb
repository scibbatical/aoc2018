{
 "cells": [
  {
   "cell_type": "code",
   "execution_count": 1,
   "metadata": {
    "collapsed": false
   },
   "outputs": [],
   "source": [
    "import numpy as np\n",
    "\n"
   ]
  },
  {
   "cell_type": "code",
   "execution_count": 173,
   "metadata": {
    "collapsed": false
   },
   "outputs": [
    {
     "data": {
      "text/plain": [
       "219.0"
      ]
     },
     "execution_count": 173,
     "metadata": {},
     "output_type": "execute_result"
    }
   ],
   "source": [
    "# The input for 01b is the same as 01a, so...\n",
    "datain = np.fromfile('01a_input.txt',sep=\" \")\n",
    "\n",
    "datacycle = datain[:]\n",
    "\n",
    "# Keep track of the resulting frequencies. Find the first frequency that is repeated.\n",
    "# NOTE: the list may have to be cycled more than once!\n",
    "\n",
    "# Let's make the input to be several cycles of input!\n",
    "for i in range(145):\n",
    "    datacycle = np.append(datacycle,datain)\n",
    "\n",
    "freqcycle = np.zeros_like(datacycle)\n",
    "\n",
    "freqcycle[0] = datacycle[0]\n",
    "\n",
    "for i in range(1,len(datacycle)):\n",
    "    freqcycle[i] = freqcycle[i-1]+datacycle[i]\n",
    "    \n",
    "\n",
    "matchrecord = np.expand_dims(np.array([1000000,1000000]),axis=0)\n",
    "\n",
    "\n",
    "for i in range(len(datacycle)-1):\n",
    "    if np.where(freqcycle[i+1:]==freqcycle[i])[0].shape[0]!=0:\n",
    "        matchrecord = np.append(matchrecord,np.expand_dims(np.array([freqcycle[i],np.where(freqcycle[i:]==freqcycle[i])[0][1]+i]),axis=0),axis = 0)\n",
    "        \n",
    "matchrecord[np.argmin(matchrecord[:,1]),0]\n",
    "\n"
   ]
  }
 ],
 "metadata": {
  "anaconda-cloud": {},
  "kernelspec": {
   "display_name": "Python [default]",
   "language": "python",
   "name": "python3"
  },
  "language_info": {
   "codemirror_mode": {
    "name": "ipython",
    "version": 3
   },
   "file_extension": ".py",
   "mimetype": "text/x-python",
   "name": "python",
   "nbconvert_exporter": "python",
   "pygments_lexer": "ipython3",
   "version": "3.5.5"
  }
 },
 "nbformat": 4,
 "nbformat_minor": 1
}
