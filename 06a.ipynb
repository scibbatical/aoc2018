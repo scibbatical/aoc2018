{
 "cells": [
  {
   "cell_type": "code",
   "execution_count": 1,
   "metadata": {
    "collapsed": true
   },
   "outputs": [],
   "source": [
    "import numpy as np\n",
    "import matplotlib.pyplot as plt\n",
    "\n",
    "%matplotlib inline\n",
    "\n",
    "import pandas as pd"
   ]
  },
  {
   "cell_type": "code",
   "execution_count": 14,
   "metadata": {
    "collapsed": false
   },
   "outputs": [],
   "source": [
    "# The input\n",
    "datain = np.loadtxt('06a_input.txt',comments=None,delimiter=', ')\n",
    "datain = datain.astype(int)"
   ]
  },
  {
   "cell_type": "code",
   "execution_count": 130,
   "metadata": {
    "collapsed": false
   },
   "outputs": [
    {
     "data": {
      "text/plain": [
       "array([[ 45, 315],\n",
       "       [258, 261],\n",
       "       [336, 208],\n",
       "       [160, 322],\n",
       "       [347, 151]])"
      ]
     },
     "execution_count": 130,
     "metadata": {},
     "output_type": "execute_result"
    }
   ],
   "source": [
    "datain[:5]"
   ]
  },
  {
   "cell_type": "code",
   "execution_count": 285,
   "metadata": {
    "collapsed": true
   },
   "outputs": [],
   "source": [
    "# Test input\n",
    "testin = np.array([[1,1],[1,6],[8,3],[3,4],[5,5],[8,9]]).astype(int)"
   ]
  },
  {
   "cell_type": "code",
   "execution_count": 325,
   "metadata": {
    "collapsed": false
   },
   "outputs": [
    {
     "data": {
      "text/plain": [
       "356"
      ]
     },
     "execution_count": 325,
     "metadata": {},
     "output_type": "execute_result"
    }
   ],
   "source": [
    "np.max(datain)\n",
    "#np.max(testin)"
   ]
  },
  {
   "cell_type": "code",
   "execution_count": 326,
   "metadata": {
    "collapsed": false
   },
   "outputs": [],
   "source": [
    "# populate the original array\n",
    "map0 = np.zeros((360,360))\n",
    "\n",
    "for i,coord in enumerate(datain):\n",
    "    map0[coord[0],coord[1]] = i+1\n",
    "    #print(coord[1])\n"
   ]
  },
  {
   "cell_type": "code",
   "execution_count": 327,
   "metadata": {
    "collapsed": false
   },
   "outputs": [
    {
     "data": {
      "text/plain": [
       "<matplotlib.image.AxesImage at 0x11ba342e8>"
      ]
     },
     "execution_count": 327,
     "metadata": {},
     "output_type": "execute_result"
    },
    {
     "data": {
      "image/png": "[encoded data removed]",
      "text/plain": [
       "<Figure size 576x576 with 1 Axes>"
      ]
     },
     "metadata": {
      "needs_background": "light"
     },
     "output_type": "display_data"
    }
   ],
   "source": [
    "plt.figure(figsize=(8,8))\n",
    "plt.imshow(map0.T)"
   ]
  },
  {
   "cell_type": "code",
   "execution_count": 328,
   "metadata": {
    "collapsed": true
   },
   "outputs": [],
   "source": [
    "def mhd(inarray,loi):\n",
    "    outarray = np.zeros_like(inarray)\n",
    "    for i in range(outarray.shape[0]):\n",
    "        for j in range(outarray.shape[1]):\n",
    "            outarray[i,j] = abs(loi[0]-i) + abs(loi[1]-j)\n",
    "    return outarray\n"
   ]
  },
  {
   "cell_type": "code",
   "execution_count": 331,
   "metadata": {
    "collapsed": false
   },
   "outputs": [],
   "source": [
    "# create a 3D array. [x,y,layer], where layer is the mhd from point index#\n",
    "\n",
    "mhd3 = np.zeros((map0.shape[0],map0.shape[1],datain.shape[0]))\n",
    "\n",
    "for layer in range(mhd3.shape[2]):\n",
    "    mhd3[:,:,layer] = mhd(map0,datain[layer])\n",
    "    \n",
    "    \n",
    "# at each location, find the index of the closest point\n",
    "\n",
    "# find the minimum dist\n",
    "mins = np.amin(mhd3,axis=2)\n",
    "# find the index for that min\n",
    "idxmins = np.empty_like(map0)\n",
    "for i in range(map0.shape[0]):\n",
    "        for j in range(map0.shape[1]):\n",
    "            if len(np.where(mhd3[i,j,:] == mins[i,j])[0]) > 1:\n",
    "                idxmins[i,j] = np.nan\n",
    "            else:\n",
    "                idxmins[i,j] = np.where(mhd3[i,j,:] == mins[i,j])[0]\n",
    "\n",
    "\n"
   ]
  },
  {
   "cell_type": "code",
   "execution_count": 332,
   "metadata": {
    "collapsed": false,
    "scrolled": false
   },
   "outputs": [
    {
     "data": {
      "text/plain": [
       "<matplotlib.image.AxesImage at 0x11cabc320>"
      ]
     },
     "execution_count": 332,
     "metadata": {},
     "output_type": "execute_result"
    },
    {
     "data": {
      "image/png": "[encoded data removed]",
      "text/plain": [
       "<Figure size 576x576 with 1 Axes>"
      ]
     },
     "metadata": {
      "needs_background": "light"
     },
     "output_type": "display_data"
    }
   ],
   "source": [
    "plt.figure(figsize=(8,8))\n",
    "plt.imshow(idxmins.T)"
   ]
  },
  {
   "cell_type": "code",
   "execution_count": 345,
   "metadata": {
    "collapsed": false
   },
   "outputs": [
    {
     "data": {
      "text/plain": [
       "49.0"
      ]
     },
     "execution_count": 345,
     "metadata": {},
     "output_type": "execute_result"
    }
   ],
   "source": [
    "np.amax(idxmins[np.where(idxmins < 100)])"
   ]
  },
  {
   "cell_type": "code",
   "execution_count": 346,
   "metadata": {
    "collapsed": false
   },
   "outputs": [
    {
     "data": {
      "text/plain": [
       "array([ 0,  2,  4,  5,  7, 11, 14, 17, 19, 20, 23, 24, 25, 27, 30, 32, 33,\n",
       "       35, 36, 37, 39, 40, 41, 45])"
      ]
     },
     "execution_count": 346,
     "metadata": {},
     "output_type": "execute_result"
    }
   ],
   "source": [
    "# find indicies of arrays that reach the border\n",
    "idxinfinites = np.unique(np.array([idxmins[0],idxmins[-1],idxmins[:,0],idxmins[:,-1]])).astype(int)\n",
    "\n",
    "idxinfinites = idxinfinites[idxinfinites > -1]\n",
    "\n",
    "idxinfinites\n",
    "\n"
   ]
  },
  {
   "cell_type": "code",
   "execution_count": 348,
   "metadata": {
    "collapsed": false,
    "scrolled": true
   },
   "outputs": [
    {
     "data": {
      "text/plain": [
       "3894"
      ]
     },
     "execution_count": 348,
     "metadata": {},
     "output_type": "execute_result"
    }
   ],
   "source": [
    "idxareas = np.zeros_like(datain)\n",
    "\n",
    "for i in range(idxareas.shape[0]):\n",
    "    idxareas[i] = [i,np.count_nonzero(idxmins == i)]\n",
    "    \n",
    "# Ignore those infinite areas:\n",
    "noninf = np.delete(idxareas,idxinfinites,axis=0)\n",
    "np.amax(noninf)"
   ]
  }
 ],
 "metadata": {
  "kernelspec": {
   "display_name": "Python [default]",
   "language": "python",
   "name": "python3"
  },
  "language_info": {
   "codemirror_mode": {
    "name": "ipython",
    "version": 3
   },
   "file_extension": ".py",
   "mimetype": "text/x-python",
   "name": "python",
   "nbconvert_exporter": "python",
   "pygments_lexer": "ipython3",
   "version": "3.5.5"
  }
 },
 "nbformat": 4,
 "nbformat_minor": 1
}
