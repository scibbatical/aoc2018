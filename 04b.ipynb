{
 "cells": [
  {
   "cell_type": "code",
   "execution_count": 1,
   "metadata": {
    "collapsed": true
   },
   "outputs": [],
   "source": [
    "import numpy as np\n",
    "import matplotlib.pyplot as plt\n",
    "\n",
    "%matplotlib inline\n",
    "\n",
    "import time\n",
    "from datetime import date\n",
    "import pandas as pd\n"
   ]
  },
  {
   "cell_type": "code",
   "execution_count": 2,
   "metadata": {
    "collapsed": false
   },
   "outputs": [],
   "source": [
    "# The input\n",
    "datain = np.loadtxt('04a_input.txt',comments=None,dtype=str,usecols=(0,1,2,3))\n",
    "\n",
    "year = np.empty((datain.shape[0])).astype(int)\n",
    "month = np.empty_like(year)\n",
    "day = np.empty_like(year)\n",
    "hour = np.empty_like(year)\n",
    "minute = np.empty_like(year)\n",
    "\n",
    "for i in range(datain.shape[0]):\n",
    "    \n",
    "    for j in range(datain.shape[1]):\n",
    "        datain[i,j] = datain[i,j].replace(\"b'\",'').replace(\"'\",'')\n",
    "        \n",
    "    year[i], month[i], day[i] = datain[i,0].replace('[','').split('-') # remove open bracket, split by '-'\n",
    "    year[i] += 500\n",
    "    hour[i], minute[i] = datain[i,1].replace(']','').split(':') # remove close bracket\n",
    "    if datain[i,3][0] == '#':\n",
    "        datain[i,3] = datain[i,3].replace('#','') # \n",
    "    else:\n",
    "        datain[i,3] = ''\n",
    "    \n"
   ]
  },
  {
   "cell_type": "code",
   "execution_count": 3,
   "metadata": {
    "collapsed": false
   },
   "outputs": [],
   "source": [
    "# put the dates in a dataframe\n",
    "dfin = pd.DataFrame(np.squeeze(np.array((year,month,day,hour,minute))).T.tolist())\n",
    "# name the columns according to time step\n",
    "dfin = dfin.rename(columns={0: \"year\", 1: \"month\", 2: \"day\", 3: \"hour\", 4: \"minute\"})\n",
    "# convert time steps into datetime\n",
    "dfin = pd.to_datetime(dfin)\n",
    "# rename time column\n",
    "#dfin = dfin.rename(columns={0: \"time\"})\n",
    "\n",
    "# add other information to the df\n",
    "dftemp = pd.DataFrame(minute)\n",
    "dfin = pd.concat([dfin, dftemp],axis=1)\n",
    "dftemp = pd.DataFrame(datain[:,2])\n",
    "dfin = pd.concat([dfin, dftemp],axis=1)\n",
    "dftemp = pd.DataFrame(datain[:,3])\n",
    "dfin = pd.concat([dfin, dftemp],axis=1)\n",
    "\n",
    "# rename time column\n",
    "dfin.columns = ['time','minute','info','gid']\n",
    "\n",
    "# re-order by time and re-index\n",
    "dfin = dfin.sort_values(by='time')\n",
    "dfin = dfin.reset_index(drop=True)\n",
    "\n",
    "#dfin[:][-5:]"
   ]
  },
  {
   "cell_type": "code",
   "execution_count": 4,
   "metadata": {
    "collapsed": false
   },
   "outputs": [],
   "source": [
    "# prepare for timecard\n",
    "days = dfin.groupby('info').size()['Guard']\n",
    "\n",
    "guards = dfin.gid.unique()\n",
    "guards = np.append(guards[0],guards[2:])\n",
    "\n",
    "# create the time card\n",
    "tc = np.zeros((days,60+1))\n",
    "\n",
    "# populate time card\n",
    "day = 0\n",
    "for index, row in dfin.iterrows():\n",
    "    if row['info'] == 'Guard':\n",
    "        tc[day,-1] = row['gid']\n",
    "        # if dfin.iloc[index+1]['info'] == 'Guard': break...\n",
    "        tc[day, dfin.iloc[index+1]['minute']:dfin.iloc[index+2]['minute']] = 1\n",
    "        \n",
    "        try:\n",
    "            if dfin.iloc[index+3]['info'] == 'falls':\n",
    "                tc[day, dfin.iloc[index+3]['minute']:dfin.iloc[index+4]['minute']] = 1\n",
    "        except:\n",
    "            pass\n",
    "        \n",
    "        day += 1\n",
    "    \n",
    "    \n",
    "    "
   ]
  },
  {
   "cell_type": "code",
   "execution_count": 5,
   "metadata": {
    "collapsed": false,
    "scrolled": false
   },
   "outputs": [
    {
     "name": "stdout",
     "output_type": "stream",
     "text": [
      "Guard  2543 slept 150.0 minutes\n",
      "Guard  3571 slept 262.0 minutes\n",
      "Guard  1697 slept 333.0 minutes\n",
      "Guard  2161 slept 459.0 minutes\n",
      "Guard  613 slept 341.0 minutes\n",
      "Guard  1619 slept 426.0 minutes\n",
      "Guard  883 slept 238.0 minutes\n",
      "Guard  2423 slept 251.0 minutes\n",
      "Guard  1571 slept 492.0 minutes\n",
      "Guard  2801 slept 394.0 minutes\n",
      "Guard  953 slept 376.0 minutes\n",
      "Guard  449 slept 450.0 minutes\n",
      "Guard  919 slept 281.0 minutes\n",
      "Guard  3299 slept 364.0 minutes\n",
      "Guard  1307 slept 218.0 minutes\n",
      "Guard  1607 slept 137.0 minutes\n",
      "Guard  1091 slept 185.0 minutes\n",
      "Guard  2467 slept 252.0 minutes\n",
      "Guard  1597 slept 309.0 minutes\n",
      "Guard  577 slept 80.0 minutes\n",
      "Guard  283 slept 245.0 minutes\n",
      "Guard  263 slept 10.0 minutes\n",
      "Guard  157 slept 0.0 minutes\n"
     ]
    }
   ],
   "source": [
    "# create timecard dataframe\n",
    "dftc = pd.DataFrame(tc)\n",
    "\n",
    "# name guard number column\n",
    "dftc = dftc.rename(columns={60: 'gid'})\n",
    "\n",
    "# for each guard, print the total number of minutes slept\n",
    "for guard in guards:\n",
    "    print(\"Guard \",guard,\"slept\",\n",
    "          np.sum(dftc.loc[dftc['gid'] == int(guard)].drop(['gid'],axis=1).values),\n",
    "         \"minutes\")"
   ]
  },
  {
   "cell_type": "code",
   "execution_count": 18,
   "metadata": {
    "collapsed": false
   },
   "outputs": [
    {
     "data": {
      "text/plain": [
       "(5, 33)"
      ]
     },
     "execution_count": 18,
     "metadata": {},
     "output_type": "execute_result"
    }
   ],
   "source": [
    "# create an array that defines the amount each guard slept at each minute\n",
    "\n",
    "fulltc = np.empty((len(guards),60))\n",
    "\n",
    "for i in range(len(guards)):\n",
    "    for minute in range(60):\n",
    "        fulltc[i,minute] = dftc.loc[dftc['gid'] == int(guards[i])][minute].sum()\n",
    "# the (guard index) slept most at (minute)\n",
    "np.unravel_index(fulltc.argmax(), fulltc.shape)"
   ]
  },
  {
   "cell_type": "code",
   "execution_count": 21,
   "metadata": {
    "collapsed": false
   },
   "outputs": [
    {
     "data": {
      "text/plain": [
       "'1619'"
      ]
     },
     "execution_count": 21,
     "metadata": {},
     "output_type": "execute_result"
    }
   ],
   "source": [
    "guards[5]"
   ]
  },
  {
   "cell_type": "code",
   "execution_count": 23,
   "metadata": {
    "collapsed": false
   },
   "outputs": [
    {
     "data": {
      "text/plain": [
       "53427"
      ]
     },
     "execution_count": 23,
     "metadata": {},
     "output_type": "execute_result"
    }
   ],
   "source": [
    "int(guards[5])*33\n"
   ]
  }
 ],
 "metadata": {
  "anaconda-cloud": {},
  "kernelspec": {
   "display_name": "Python [Root]",
   "language": "python",
   "name": "Python [Root]"
  },
  "language_info": {
   "codemirror_mode": {
    "name": "ipython",
    "version": 3
   },
   "file_extension": ".py",
   "mimetype": "text/x-python",
   "name": "python",
   "nbconvert_exporter": "python",
   "pygments_lexer": "ipython3",
   "version": "3.5.5"
  }
 },
 "nbformat": 4,
 "nbformat_minor": 1
}
