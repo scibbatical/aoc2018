{
 "cells": [
  {
   "cell_type": "code",
   "execution_count": 10,
   "metadata": {
    "collapsed": true
   },
   "outputs": [],
   "source": [
    "import numpy as np\n",
    "\n",
    "import matplotlib.pyplot as plt\n",
    "%matplotlib inline"
   ]
  },
  {
   "cell_type": "code",
   "execution_count": 12,
   "metadata": {
    "collapsed": false
   },
   "outputs": [],
   "source": [
    "del(interim)\n",
    "\n",
    "snum = 5153\n",
    "\n",
    "cell = np.zeros((301,301))\n",
    "\n",
    "for i in range(1,301):\n",
    "    for j in range(1,301):\n",
    "        rackid = i+10\n",
    "        interim = ((rackid*j)+snum)*rackid\n",
    "        #cell[i,j] = interim\n",
    "        if interim > 99:\n",
    "            cell[i,j] = int(str(interim)[-3])-5\n",
    "        else:\n",
    "            cell[i,j] = -5\n",
    "            \n",
    "totpow = np.zeros((301,301))\n",
    "\n",
    "for i in range(1,301-2):\n",
    "    for j in range(1,301-2):\n",
    "        totpow[i,j] = cell[i:(i+3),j:(j+3)].sum()\n",
    "        \n",
    "totpow3 = np.zeros((301,301,301))\n",
    "for k in range(1,301):\n",
    "    for i in range(1,301-(k-1)):\n",
    "        for j in range(1,301-(k-1)):\n",
    "            totpow3[k,i,j] =cell[i:(i+k),j:(j+k)].sum()  \n"
   ]
  },
  {
   "cell_type": "code",
   "execution_count": 18,
   "metadata": {
    "collapsed": false
   },
   "outputs": [
    {
     "data": {
      "text/plain": [
       "((12, 236, 227), 110.0)"
      ]
     },
     "execution_count": 18,
     "metadata": {},
     "output_type": "execute_result"
    }
   ],
   "source": [
    "ind = np.unravel_index(np.argmax(totpow3, axis=None), totpow3.shape)\n",
    "ind,totpow3[ind] # this is [filter size,x,y],max value"
   ]
  }
 ],
 "metadata": {
  "anaconda-cloud": {},
  "kernelspec": {
   "display_name": "Python [Root]",
   "language": "python",
   "name": "Python [Root]"
  },
  "language_info": {
   "codemirror_mode": {
    "name": "ipython",
    "version": 3
   },
   "file_extension": ".py",
   "mimetype": "text/x-python",
   "name": "python",
   "nbconvert_exporter": "python",
   "pygments_lexer": "ipython3",
   "version": "3.5.5"
  }
 },
 "nbformat": 4,
 "nbformat_minor": 2
}
