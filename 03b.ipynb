{
 "cells": [
  {
   "cell_type": "code",
   "execution_count": 2,
   "metadata": {
    "collapsed": true
   },
   "outputs": [],
   "source": [
    "import numpy as np\n",
    "import matplotlib.pyplot as plt\n",
    "\n",
    "%matplotlib inline"
   ]
  },
  {
   "cell_type": "code",
   "execution_count": 3,
   "metadata": {
    "collapsed": false
   },
   "outputs": [],
   "source": [
    "# The input\n",
    "datain = np.loadtxt('03a_input.txt',comments=None,dtype=str)\n",
    "datain = np.delete(datain,1,1)\n",
    "datain = np.insert(datain,1,datain[:,1],axis=1)\n",
    "datain = np.insert(datain,-1,datain[:,-1],axis=1)\n",
    "\n",
    "for row in datain:\n",
    "    row[0] = row[0].replace('#','') # claim\n",
    "    row[1] = row[1].split(',')[0] # distance from left\n",
    "    row[2] = row[2].split(',')[1].replace(':','') # distance from top\n",
    "    row[3] = row[3].split('x')[0] # width\n",
    "    row[4] = row[4].split('x')[1] # height\n",
    "    \n",
    "datain = datain.astype(int)\n"
   ]
  },
  {
   "cell_type": "code",
   "execution_count": 4,
   "metadata": {
    "collapsed": false
   },
   "outputs": [],
   "source": [
    "# find max dimensions of fabric\n",
    "\n",
    "maxfabW = np.max(datain[:,1]+datain[:,3])\n",
    "maxfabH = np.max(datain[:,2]+datain[:,4])\n",
    "\n",
    "# we know it's a square of fabric, so insist use the max of the maxes\n",
    "maxfabdim = max([maxfabW,maxfabH])\n",
    "\n",
    "# define fabric array\n",
    "fabric = np.zeros((maxfabdim,maxfabdim))"
   ]
  },
  {
   "cell_type": "code",
   "execution_count": 5,
   "metadata": {
    "collapsed": false
   },
   "outputs": [],
   "source": [
    "# for each claim, mark the cells in the fabric array that correspond to the used fabric\n",
    "for claim in datain:\n",
    "    for alongwidth in range(claim[1],claim[1]+claim[3]):\n",
    "        for alongheight in range(claim[2],claim[2]+claim[4]):\n",
    "            fabric[alongheight,alongwidth] += 1"
   ]
  },
  {
   "cell_type": "code",
   "execution_count": 6,
   "metadata": {
    "collapsed": false
   },
   "outputs": [
    {
     "data": {
      "text/plain": [
       "<matplotlib.image.AxesImage at 0x10f87bd30>"
      ]
     },
     "execution_count": 6,
     "metadata": {},
     "output_type": "execute_result"
    },
    {
     "data": {
      "image/png": "[encoded data removed]",
      "text/plain": [
       "<Figure size 432x288 with 1 Axes>"
      ]
     },
     "metadata": {
      "needs_background": "light"
     },
     "output_type": "display_data"
    }
   ],
   "source": [
    "plt.imshow(fabric)"
   ]
  },
  {
   "cell_type": "code",
   "execution_count": 7,
   "metadata": {
    "collapsed": false
   },
   "outputs": [],
   "source": [
    "# count number of inches that are within two or more claims\n",
    "fabricsum = np.zeros_like(fabric)\n",
    "fabricsum[np.where(fabric > 1)] = 1\n",
    "\n"
   ]
  },
  {
   "cell_type": "code",
   "execution_count": 20,
   "metadata": {
    "collapsed": false
   },
   "outputs": [
    {
     "name": "stdout",
     "output_type": "stream",
     "text": [
      "1100\n"
     ]
    }
   ],
   "source": [
    "# Check to see if the claim covers only ones in the fabric array\n",
    "\n",
    "for claim in datain:\n",
    "    if np.array_equal(np.ones((claim[4],claim[3])) , fabric[claim[2]:claim[2]+claim[4],claim[1]:claim[1]+claim[3]]):\n",
    "        print(claim[0])"
   ]
  }
 ],
 "metadata": {
  "anaconda-cloud": {},
  "kernelspec": {
   "display_name": "Python [default]",
   "language": "python",
   "name": "python3"
  },
  "language_info": {
   "codemirror_mode": {
    "name": "ipython",
    "version": 3
   },
   "file_extension": ".py",
   "mimetype": "text/x-python",
   "name": "python",
   "nbconvert_exporter": "python",
   "pygments_lexer": "ipython3",
   "version": "3.5.5"
  }
 },
 "nbformat": 4,
 "nbformat_minor": 1
}
