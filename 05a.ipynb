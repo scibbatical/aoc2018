{
 "cells": [
  {
   "cell_type": "code",
   "execution_count": 1,
   "metadata": {
    "collapsed": true
   },
   "outputs": [],
   "source": [
    "import numpy as np\n",
    "import matplotlib.pyplot as plt\n",
    "\n",
    "%matplotlib inline\n",
    "\n",
    "import pandas as pd"
   ]
  },
  {
   "cell_type": "code",
   "execution_count": 3,
   "metadata": {
    "collapsed": false
   },
   "outputs": [],
   "source": [
    "# The input\n",
    "polymer0 = np.loadtxt('05a_input.txt',dtype=str)"
   ]
  },
  {
   "cell_type": "code",
   "execution_count": 8,
   "metadata": {
    "collapsed": false
   },
   "outputs": [
    {
     "data": {
      "text/plain": [
       "50000"
      ]
     },
     "execution_count": 8,
     "metadata": {},
     "output_type": "execute_result"
    }
   ],
   "source": [
    "polymer0 = str(polymer0)\n",
    "len(polymer0)"
   ]
  },
  {
   "cell_type": "code",
   "execution_count": 39,
   "metadata": {
    "collapsed": true
   },
   "outputs": [],
   "source": [
    "def polyreact(polymer):\n",
    "    for i in range(len(polymer)-1):\n",
    "        if polymer[i] == polymer[i+1].swapcase():\n",
    "            return polymer[:i]+polymer[i+2:]\n",
    "        if i == len(polymer)-2:\n",
    "            print(\"Reaction Complete\")\n",
    "            return polymer\n",
    "            "
   ]
  },
  {
   "cell_type": "code",
   "execution_count": 41,
   "metadata": {
    "collapsed": false
   },
   "outputs": [
    {
     "name": "stdout",
     "output_type": "stream",
     "text": [
      "Reaction Complete\n",
      "Final length =  11590\n"
     ]
    }
   ],
   "source": [
    "lengthactive = len(polymer0)\n",
    "lengthreacted = 100000\n",
    "polyactive = polymer0[:]\n",
    "#polyactive = test[:]\n",
    "\n",
    "while lengthreacted != lengthactive:\n",
    "    polyreacted = polyreact(polyactive)\n",
    "    lengthreacted = len(polyreacted)\n",
    "    lengthactive = len(polyactive)\n",
    "    polyactive = polyreacted[:]\n",
    "    \n",
    "print(\"Final length = \",len(polyactive))\n",
    "\n"
   ]
  }
 ],
 "metadata": {
  "anaconda-cloud": {},
  "kernelspec": {
   "display_name": "Python [default]",
   "language": "python",
   "name": "python3"
  },
  "language_info": {
   "codemirror_mode": {
    "name": "ipython",
    "version": 3
   },
   "file_extension": ".py",
   "mimetype": "text/x-python",
   "name": "python",
   "nbconvert_exporter": "python",
   "pygments_lexer": "ipython3",
   "version": "3.5.5"
  }
 },
 "nbformat": 4,
 "nbformat_minor": 1
}
