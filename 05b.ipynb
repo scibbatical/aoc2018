{
 "cells": [
  {
   "cell_type": "code",
   "execution_count": 7,
   "metadata": {
    "collapsed": true
   },
   "outputs": [],
   "source": [
    "import numpy as np\n",
    "import matplotlib.pyplot as plt\n",
    "\n",
    "%matplotlib inline\n",
    "\n",
    "import pandas as pd"
   ]
  },
  {
   "cell_type": "code",
   "execution_count": 8,
   "metadata": {
    "collapsed": false
   },
   "outputs": [],
   "source": [
    "# The input\n",
    "polymer0 = np.loadtxt('05a_input.txt',dtype=str)"
   ]
  },
  {
   "cell_type": "code",
   "execution_count": 9,
   "metadata": {
    "collapsed": false
   },
   "outputs": [
    {
     "data": {
      "text/plain": [
       "50000"
      ]
     },
     "execution_count": 9,
     "metadata": {},
     "output_type": "execute_result"
    }
   ],
   "source": [
    "polymer0 = str(polymer0)\n",
    "len(polymer0)"
   ]
  },
  {
   "cell_type": "code",
   "execution_count": 22,
   "metadata": {
    "collapsed": true
   },
   "outputs": [],
   "source": [
    "def polyreact(polymer):\n",
    "    for i in range(len(polymer)-1):\n",
    "        if polymer[i] == polymer[i+1].swapcase():\n",
    "            return polymer[:i]+polymer[i+2:]\n",
    "        if i == len(polymer)-2:\n",
    "            #print(\"Reaction Complete\")\n",
    "            return polymer\n",
    "            "
   ]
  },
  {
   "cell_type": "code",
   "execution_count": 41,
   "metadata": {
    "collapsed": false
   },
   "outputs": [
    {
     "name": "stdout",
     "output_type": "stream",
     "text": [
      "Reaction Complete\n",
      "Final length =  11590\n"
     ]
    }
   ],
   "source": [
    "lengthactive = len(polymer0)\n",
    "lengthreacted = 100000\n",
    "polyactive = polymer0[:]\n",
    "#polyactive = test[:]\n",
    "\n",
    "while lengthreacted != lengthactive:\n",
    "    polyreacted = polyreact(polyactive)\n",
    "    lengthreacted = len(polyreacted)\n",
    "    lengthactive = len(polyactive)\n",
    "    polyactive = polyreacted[:]\n",
    "    \n",
    "print(\"Final length = \",len(polyactive))\n",
    "\n"
   ]
  },
  {
   "cell_type": "code",
   "execution_count": 18,
   "metadata": {
    "collapsed": true
   },
   "outputs": [],
   "source": [
    "def polyreactless(polymer,less):\n",
    "    \n",
    "    # remove all instaces of 'less', regardless of case\n",
    "    polymer = polymer.replace(less,'').replace(less.swapcase(),'')\n",
    "\n",
    "    lengthactive = len(polymer)\n",
    "    lengthreacted = 100000\n",
    "    polyactive = polymer[:]\n",
    "\n",
    "    while lengthreacted != lengthactive:\n",
    "        polyreacted = polyreact(polyactive)\n",
    "        lengthreacted = len(polyreacted)\n",
    "        lengthactive = len(polyactive)\n",
    "        polyactive = polyreacted[:]\n",
    "\n",
    "    return [less,len(polyactive)]\n",
    "\n",
    "\n"
   ]
  },
  {
   "cell_type": "code",
   "execution_count": 19,
   "metadata": {
    "collapsed": false
   },
   "outputs": [
    {
     "name": "stdout",
     "output_type": "stream",
     "text": [
      "Reaction Complete\n"
     ]
    },
    {
     "data": {
      "text/plain": [
       "['e', 10]"
      ]
     },
     "execution_count": 19,
     "metadata": {},
     "output_type": "execute_result"
    }
   ],
   "source": [
    "polyreactless(test,'e')"
   ]
  },
  {
   "cell_type": "code",
   "execution_count": 20,
   "metadata": {
    "collapsed": false
   },
   "outputs": [],
   "source": [
    "alph = ['a','b','c','d','e','f','g','h','i','j','k','l','m','n','o','p','q','r','s','t','u','v','w','x','y','z']"
   ]
  },
  {
   "cell_type": "code",
   "execution_count": 24,
   "metadata": {
    "collapsed": false
   },
   "outputs": [
    {
     "name": "stdout",
     "output_type": "stream",
     "text": [
      "['a', 11078]\n",
      "['b', 11156]\n",
      "['c', 11136]\n",
      "['d', 11142]\n",
      "['e', 11172]\n",
      "['f', 11152]\n",
      "['g', 11102]\n",
      "['h', 11100]\n",
      "['i', 11060]\n",
      "['j', 11126]\n",
      "['k', 11110]\n",
      "['l', 11134]\n",
      "['m', 11034]\n",
      "['n', 4504]\n",
      "['o', 11076]\n",
      "['p', 11176]\n",
      "['q', 11054]\n",
      "['r', 11124]\n",
      "['s', 11110]\n",
      "['t', 11134]\n",
      "['u', 11168]\n",
      "['v', 11184]\n",
      "['w', 11152]\n",
      "['x', 11136]\n",
      "['y', 11136]\n",
      "['z', 11126]\n"
     ]
    }
   ],
   "source": [
    "for letter in alph:\n",
    "    print(polyreactless(polymer0,letter))"
   ]
  },
  {
   "cell_type": "code",
   "execution_count": null,
   "metadata": {
    "collapsed": true
   },
   "outputs": [],
   "source": []
  }
 ],
 "metadata": {
  "anaconda-cloud": {},
  "kernelspec": {
   "display_name": "Python [default]",
   "language": "python",
   "name": "python3"
  },
  "language_info": {
   "codemirror_mode": {
    "name": "ipython",
    "version": 3
   },
   "file_extension": ".py",
   "mimetype": "text/x-python",
   "name": "python",
   "nbconvert_exporter": "python",
   "pygments_lexer": "ipython3",
   "version": "3.5.5"
  }
 },
 "nbformat": 4,
 "nbformat_minor": 1
}
