{
 "cells": [
  {
   "cell_type": "code",
   "execution_count": 1,
   "metadata": {
    "collapsed": true
   },
   "outputs": [],
   "source": [
    "import numpy as np\n",
    "import matplotlib.pyplot as plt\n",
    "\n",
    "import pandas as pd\n",
    "\n",
    "%matplotlib inline"
   ]
  },
  {
   "cell_type": "markdown",
   "metadata": {},
   "source": [
    "    9 players; last marble is worth 25 points: high score is 32\n",
    "    10 players; last marble is worth 1618 points: high score is 8317\n",
    "    13 players; last marble is worth 7999 points: high score is 146373\n",
    "    17 players; last marble is worth 1104 points: high score is 2764\n",
    "    21 players; last marble is worth 6111 points: high score is 54718\n",
    "    30 players; last marble is worth 5807 points: high score is 37305\n",
    "\n",
    "\n",
    "# my input data: 404 players; last marble is worth 71852 points"
   ]
  },
  {
   "cell_type": "code",
   "execution_count": 29,
   "metadata": {
    "collapsed": true
   },
   "outputs": [],
   "source": [
    "# define a function that rings indicies clockwise\n",
    "def cw(track,idx,deltaidx): # only works for a single trip past the post\n",
    "    tracklen = len(track)\n",
    "    if idx + deltaidx < tracklen:\n",
    "        return idx+deltaidx\n",
    "    else:\n",
    "        return (idx + deltaidx) - tracklen\n",
    "\n",
    "# define a function that rings indicies counterclockwise\n",
    "def ccw(track,idx,deltaidx): # only works for a single trip past the post\n",
    "    tracklen = len(track)\n",
    "    if idx - deltaidx >= 0:\n",
    "        return idx - deltaidx\n",
    "    else:\n",
    "        return len(track) + (idx - deltaidx) #idx - deltaidx\n",
    "    \n",
    "# define a function that returns the active player\n",
    "def playnext(player):\n",
    "    if player == np.nan:\n",
    "        return 1\n",
    "    elif player < numberofplayers:\n",
    "        return player + 1\n",
    "    else:\n",
    "        return 1"
   ]
  },
  {
   "cell_type": "code",
   "execution_count": 30,
   "metadata": {
    "collapsed": false
   },
   "outputs": [
    {
     "data": {
      "text/plain": [
       "array([434674.])"
      ]
     },
     "execution_count": 30,
     "metadata": {},
     "output_type": "execute_result"
    }
   ],
   "source": [
    "numberofplayers = 404\n",
    "lastmarble = 71852\n",
    "\n",
    "active = 1\n",
    "marble = 2\n",
    "player = 2\n",
    "ring = [0,2,1]\n",
    "scores = np.zeros((numberofplayers+1,1))\n",
    "\n",
    "while marble < lastmarble:\n",
    "    #begin phase\n",
    "    player = playnext(player)\n",
    "    marble += 1\n",
    "    \n",
    "    if marble%23 != 0: #regular scenario\n",
    "        ring.insert(cw(ring,active,1)+1,marble)\n",
    "        active = np.argmax(np.array(ring))\n",
    "    else:\n",
    "        scores[player] += marble\n",
    "        scores[player] += ring[ccw(ring,active,7)]\n",
    "        active = ccw(ring,active,7)\n",
    "        del ring[active]\n",
    "        if active > len(ring):\n",
    "            active = 0\n",
    "\n",
    "    \n",
    "#ring,player,active,marble\n",
    "\n",
    "max(scores)"
   ]
  }
 ],
 "metadata": {
  "anaconda-cloud": {},
  "kernelspec": {
   "display_name": "Python [conda root]",
   "language": "python",
   "name": "conda-root-py"
  },
  "language_info": {
   "codemirror_mode": {
    "name": "ipython",
    "version": 3
   },
   "file_extension": ".py",
   "mimetype": "text/x-python",
   "name": "python",
   "nbconvert_exporter": "python",
   "pygments_lexer": "ipython3",
   "version": "3.5.5"
  }
 },
 "nbformat": 4,
 "nbformat_minor": 2
}
