{
 "cells": [
  {
   "cell_type": "code",
   "execution_count": 1,
   "metadata": {
    "collapsed": true
   },
   "outputs": [],
   "source": [
    "import numpy as np"
   ]
  },
  {
   "cell_type": "markdown",
   "metadata": {},
   "source": [
    "Test cases:\n",
    "\n",
    "Starts with 37\n",
    "\n",
    "After 5, the next ten are 0124515891\n",
    "\n",
    "After 9, the next ten are 5158916779\n",
    "\n",
    "After 18, the next ten are 9251071085\n",
    "\n",
    "After 2018, the next ten are 5941429882\n",
    "\n",
    "\n",
    "\n",
    "\n",
    "## How many after 920831 recipies?"
   ]
  },
  {
   "cell_type": "code",
   "execution_count": null,
   "metadata": {
    "collapsed": true
   },
   "outputs": [],
   "source": [
    "'''\n",
    "P0. Implement a linear list\n",
    "'''\n",
    "\n",
    "class LNode:\n",
    "    def __init__(self,val):\n",
    "        self.val = val\n",
    "        self.next = None\n",
    "        \n",
    "    def newscore(self,k):\n",
    "        newnode = LNode(k) # create a new node\n",
    "        lastn.next = newnode # set new node to be the one after the last node\n",
    "        lastn = newnode # set the new node to be the last node\n",
    "        \n",
    "        return newnode, activenode.next # advance active to new node\n",
    "    \n",
    "    def setactives(self,k):\n",
    "        return\n",
    "    \n"
   ]
  },
  {
   "cell_type": "code",
   "execution_count": null,
   "metadata": {
    "collapsed": true
   },
   "outputs": [],
   "source": [
    "            \n",
    "lastn = \n",
    "activen1 = \n",
    "activen2 = "
   ]
  }
 ],
 "metadata": {
  "anaconda-cloud": {},
  "kernelspec": {
   "display_name": "Python [default]",
   "language": "python",
   "name": "python3"
  },
  "language_info": {
   "codemirror_mode": {
    "name": "ipython",
    "version": 3
   },
   "file_extension": ".py",
   "mimetype": "text/x-python",
   "name": "python",
   "nbconvert_exporter": "python",
   "pygments_lexer": "ipython3",
   "version": "3.5.5"
  }
 },
 "nbformat": 4,
 "nbformat_minor": 1
}
