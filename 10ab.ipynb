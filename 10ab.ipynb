{
 "cells": [
  {
   "cell_type": "code",
   "execution_count": 1,
   "metadata": {
    "collapsed": true
   },
   "outputs": [],
   "source": [
    "import numpy as np\n",
    "import matplotlib.pyplot as plt\n",
    "\n",
    "import pandas as pd\n",
    "\n",
    "%matplotlib inline"
   ]
  },
  {
   "cell_type": "code",
   "execution_count": 271,
   "metadata": {
    "collapsed": false
   },
   "outputs": [
    {
     "data": {
      "text/plain": [
       "(356, 4)"
      ]
     },
     "execution_count": 271,
     "metadata": {},
     "output_type": "execute_result"
    }
   ],
   "source": [
    "# The input\n",
    "datain = np.loadtxt('10a_input.txt',comments=None,delimiter=(','),dtype=str)#usecols=(0,1,3,4))\n",
    "\n",
    "datain = np.append(datain,datain,axis=1)\n",
    "datain = np.delete(datain,(2,3),axis=1)\n",
    "\n",
    "for i in range(datain.shape[0]):\n",
    "    datain[i,0] = datain[i,0][12:-1]\n",
    "    datain[i,1] = datain[i,1][3:9]\n",
    "    datain[i,2] = datain[i,2][21:-1]\n",
    "    datain[i,3] = datain[i,3][2:-2]\n",
    "\n",
    "datain = datain.astype(float)\n",
    "datain.shape"
   ]
  },
  {
   "cell_type": "code",
   "execution_count": 261,
   "metadata": {
    "collapsed": false
   },
   "outputs": [],
   "source": [
    "def costfunction(locationarray):\n",
    "    return float(np.amax(locationarray[:,1]) - np.amin(locationarray[:,1]))*float(np.amax(locationarray[:,0]) - np.amin(locationarray[:,0]))\n",
    "    "
   ]
  },
  {
   "cell_type": "code",
   "execution_count": 280,
   "metadata": {
    "collapsed": true
   },
   "outputs": [],
   "source": [
    "# define function to calculate a time step\n",
    "def stepping(location,velocity,steps):\n",
    "    out = np.zeros_like(location)\n",
    "    for i in range(location.shape[0]):\n",
    "        out[i] = location[i] + steps*velocity[i]\n",
    "\n",
    "    costout = costfunction(out)\n",
    "    return out,costout"
   ]
  },
  {
   "cell_type": "code",
   "execution_count": 404,
   "metadata": {
    "collapsed": false
   },
   "outputs": [],
   "source": [
    "# intialize position step array\n",
    "position = np.copy(datain)\n",
    "position = np.delete(position,(2,3),axis=1)\n",
    "positionorig = np.copy(position)\n",
    "#position = np.expand_dims(position,2)\n",
    "\n",
    "# initialiize velocity array\n",
    "vel = datain[:,2:]\n",
    "\n",
    "# intialize the cost function\n",
    "cost = [[costfunction(position)]]\n",
    "\n",
    "for i in range(10417,10450,1):\n",
    "    position,costout = stepping(positionorig,vel,i)\n",
    "    cost.append([costout])\n",
    "    \n",
    "\n",
    "\n"
   ]
  },
  {
   "cell_type": "code",
   "execution_count": 405,
   "metadata": {
    "collapsed": false,
    "scrolled": true
   },
   "outputs": [
    {
     "data": {
      "text/plain": [
       "(2, [549.0], 34)"
      ]
     },
     "execution_count": 405,
     "metadata": {},
     "output_type": "execute_result"
    }
   ],
   "source": [
    "np.argmin(cost),cost[np.argmin(cost)],len(cost)"
   ]
  },
  {
   "cell_type": "code",
   "execution_count": 408,
   "metadata": {
    "collapsed": true
   },
   "outputs": [],
   "source": [
    "position,finalcost = stepping(positionorig,vel,10418)"
   ]
  },
  {
   "cell_type": "code",
   "execution_count": 409,
   "metadata": {
    "collapsed": false
   },
   "outputs": [
    {
     "data": {
      "text/plain": [
       "(181.0, 242.0, 149.0, 158.0)"
      ]
     },
     "execution_count": 409,
     "metadata": {},
     "output_type": "execute_result"
    }
   ],
   "source": [
    "xmin = np.amin(position[:,0])\n",
    "ymin = np.amin(position[:,1])\n",
    "xmax = np.amax(position[:,0])\n",
    "ymax = np.amax(position[:,1])\n",
    "\n",
    "xmin,xmax,ymin,ymax"
   ]
  },
  {
   "cell_type": "code",
   "execution_count": 410,
   "metadata": {
    "collapsed": false
   },
   "outputs": [
    {
     "data": {
      "text/plain": [
       "<matplotlib.image.AxesImage at 0xabb9b38>"
      ]
     },
     "execution_count": 410,
     "metadata": {},
     "output_type": "execute_result"
    },
    {
     "data": {
      "image/png": "[encoded data removed]",
      "text/plain": [
       "<Figure size 800x800 with 1 Axes>"
      ]
     },
     "metadata": {},
     "output_type": "display_data"
    }
   ],
   "source": [
    "plotarray = np.zeros((250,250))\n",
    "\n",
    "for row in position:\n",
    "    plotarray[row.astype(int)[0],row.astype(int)[1]] = 1\n",
    "    \n",
    "plt.figure(figsize=(8,8))\n",
    "plt.imshow(plotarray[:1000,:1000].T)"
   ]
  }
 ],
 "metadata": {
  "anaconda-cloud": {},
  "kernelspec": {
   "display_name": "Python [Root]",
   "language": "python",
   "name": "Python [Root]"
  },
  "language_info": {
   "codemirror_mode": {
    "name": "ipython",
    "version": 3
   },
   "file_extension": ".py",
   "mimetype": "text/x-python",
   "name": "python",
   "nbconvert_exporter": "python",
   "pygments_lexer": "ipython3",
   "version": "3.5.5"
  }
 },
 "nbformat": 4,
 "nbformat_minor": 2
}
