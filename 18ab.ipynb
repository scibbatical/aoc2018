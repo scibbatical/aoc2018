{
 "cells": [
  {
   "cell_type": "code",
   "execution_count": 72,
   "metadata": {
    "collapsed": true
   },
   "outputs": [],
   "source": [
    "import numpy as np\n",
    "import matplotlib.pyplot as plt\n",
    "\n",
    "import pandas as pd\n",
    "\n",
    "import time\n",
    "\n",
    "%matplotlib inline"
   ]
  },
  {
   "cell_type": "code",
   "execution_count": 52,
   "metadata": {
    "collapsed": true
   },
   "outputs": [],
   "source": [
    "datain = np.loadtxt('18a_input.txt',comments=None,delimiter='\\n',dtype=str)#,usecols=(0,2))#,delimiter=' ')\n",
    "#datain = np.loadtxt('18a_input_test.txt',comments=None,delimiter='\\n',dtype=str)#,usecols=(0,2))#,delimiter=' ')#"
   ]
  },
  {
   "cell_type": "code",
   "execution_count": 61,
   "metadata": {
    "collapsed": false
   },
   "outputs": [
    {
     "name": "stdout",
     "output_type": "stream",
     "text": [
      "(52, 52)\n"
     ]
    },
    {
     "data": {
      "text/plain": [
       "array([['0', '0', '0', ..., '0', '0', '0'],\n",
       "       ['0', '3', '3', ..., '1', '1', '0'],\n",
       "       ['0', '2', '2', ..., '3', '1', '0'],\n",
       "       ...,\n",
       "       ['0', '1', '1', ..., '2', '1', '0'],\n",
       "       ['0', '3', '1', ..., '1', '1', '0'],\n",
       "       ['0', '0', '0', ..., '0', '0', '0']], dtype='<U21')"
      ]
     },
     "execution_count": 61,
     "metadata": {},
     "output_type": "execute_result"
    }
   ],
   "source": [
    "arrdatain = np.zeros((len(datain[0])+2,len(datain)+2)).astype(int).astype(str)\n",
    "print(arrdatain.shape)\n",
    "\n",
    "#convert datain to np array\n",
    "for i in range(1,arrdatain.shape[0]-1):\n",
    "    for j in range(1,arrdatain.shape[1]-1):\n",
    "        arrdatain[i,j] = datain[i-1][j-1]\n",
    "        if arrdatain[i,j] == '.':\n",
    "            arrdatain[i,j] = 1\n",
    "        elif arrdatain[i,j] == '|':\n",
    "            arrdatain[i,j] = 2\n",
    "        else:\n",
    "            arrdatain[i,j] = 3\n",
    "        \n",
    "arrdatain.T"
   ]
  },
  {
   "cell_type": "code",
   "execution_count": 58,
   "metadata": {
    "collapsed": false
   },
   "outputs": [],
   "source": [
    "#define a function to compile surrounding cells into a string\n",
    "def neighbours(array,x,y):\n",
    "    string = ''\n",
    "    string = array[x-1,y-1]+array[x,y-1]+array[x+1,y-1]+array[x-1,y]+array[x+1,y]+array[x-1,y+1]+array[x,y+1]+array[x+1,y+1]\n",
    "    return string"
   ]
  },
  {
   "cell_type": "code",
   "execution_count": 94,
   "metadata": {
    "collapsed": false,
    "scrolled": false
   },
   "outputs": [],
   "source": [
    "# cycle through the array, only considering cells of interest\n",
    "array_old = np.copy(arrdatain)\n",
    "\n",
    "arr_value = []\n",
    "\n",
    "for loop in range(1000):\n",
    "    array_new = np.copy(array_old)\n",
    "    \n",
    "    for coords in np.argwhere(array_old == '1'):\n",
    "        if neighbours(array_old,coords[0],coords[1]).count('2') > 2:\n",
    "            array_new[coords[0],coords[1]] = '2'\n",
    "            \n",
    "    for coords in np.argwhere(array_old == '2'):\n",
    "        if neighbours(array_old,coords[0],coords[1]).count('3') > 2:\n",
    "            array_new[coords[0],coords[1]] = '3'\n",
    "            \n",
    "    for coords in np.argwhere(array_old == '3'):\n",
    "        if neighbours(array_old,coords[0],coords[1]).count('3') > 0 and neighbours(array_old,coords[0],coords[1]).count('2') > 0:\n",
    "            array_new[coords[0],coords[1]] = '3'\n",
    "        else:\n",
    "            array_new[coords[0],coords[1]] = '1'\n",
    "    \n",
    "    #if loop > 900 and loop%10 == 0:\n",
    "        \n",
    "        #value = len(np.argwhere(array_new == '2')) * len(np.argwhere(array_new == '3'))\n",
    "        \n",
    "        #im = plt.figure(figsize=(4,4))\n",
    "        #ax = plt.gca()\n",
    "        #plt.imshow(array_new.astype(float).T)\n",
    "        #ax.set_title(value)\n",
    "    \n",
    "    if loop > 900:\n",
    "        value = len(np.argwhere(array_new == '2')) * len(np.argwhere(array_new == '3'))\n",
    "        if len(arr_value) < 1:\n",
    "            arr_value = np.expand_dims(np.array([loop,value]),axis=0)\n",
    "        else:\n",
    "            arr_value = np.append(arr_value,np.expand_dims(np.array([loop,value]),axis=0),axis=0)\n",
    "    \n",
    "    array_old = np.copy(array_new)\n",
    "\n",
    "#print(arrdatain[1:-1,1:-1])\n",
    "#print(array_new[1:-1,1:-1])"
   ]
  },
  {
   "cell_type": "code",
   "execution_count": 63,
   "metadata": {
    "collapsed": false
   },
   "outputs": [
    {
     "name": "stdout",
     "output_type": "stream",
     "text": [
      "value is 495236\n"
     ]
    }
   ],
   "source": [
    "wood = len(np.argwhere(array_new == '2'))\n",
    "lumberyards = len(np.argwhere(array_new == '3'))\n",
    "print('value is',wood*lumberyards)"
   ]
  },
  {
   "cell_type": "code",
   "execution_count": 109,
   "metadata": {
    "collapsed": false
   },
   "outputs": [
    {
     "data": {
      "text/plain": [
       "[<matplotlib.lines.Line2D at 0x11f820908>]"
      ]
     },
     "execution_count": 109,
     "metadata": {},
     "output_type": "execute_result"
    },
    {
     "data": {
      "image/png": "[encoded data removed]",
      "text/plain": [
       "<Figure size 864x288 with 1 Axes>"
      ]
     },
     "metadata": {
      "needs_background": "light"
     },
     "output_type": "display_data"
    }
   ],
   "source": [
    "m = plt.figure(figsize=(12,4))\n",
    "plt.plot(arr_value[-40:,0],arr_value[-40:,1])"
   ]
  },
  {
   "cell_type": "code",
   "execution_count": 117,
   "metadata": {
    "collapsed": false
   },
   "outputs": [
    {
     "data": {
      "text/plain": [
       "(array([   999, 201348]), array([   971, 201348]), array([   943, 201348]))"
      ]
     },
     "execution_count": 117,
     "metadata": {},
     "output_type": "execute_result"
    }
   ],
   "source": [
    "arr_value[98],arr_value[70],arr_value[42]"
   ]
  },
  {
   "cell_type": "markdown",
   "metadata": {},
   "source": [
    "The thousandth minute is the same as the 972nd minute. The value cycle repeats every 28 minutes.\n",
    "\n",
    "How many minutes more than a complete cycle in 1 000 000 000?"
   ]
  },
  {
   "cell_type": "code",
   "execution_count": 118,
   "metadata": {
    "collapsed": false
   },
   "outputs": [
    {
     "data": {
      "text/plain": [
       "0"
      ]
     },
     "execution_count": 118,
     "metadata": {},
     "output_type": "execute_result"
    }
   ],
   "source": [
    "last = 1000000000\n",
    "(last - 1000)%28"
   ]
  },
  {
   "cell_type": "markdown",
   "metadata": {},
   "source": [
    "Since 28 goes evenly into 999 999 000, the value will be the same as it was at the 1000th minute: 201348"
   ]
  }
 ],
 "metadata": {
  "anaconda-cloud": {},
  "kernelspec": {
   "display_name": "Python [conda root]",
   "language": "python",
   "name": "conda-root-py"
  },
  "language_info": {
   "codemirror_mode": {
    "name": "ipython",
    "version": 3
   },
   "file_extension": ".py",
   "mimetype": "text/x-python",
   "name": "python",
   "nbconvert_exporter": "python",
   "pygments_lexer": "ipython3",
   "version": "3.5.5"
  }
 },
 "nbformat": 4,
 "nbformat_minor": 1
}
