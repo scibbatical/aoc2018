{
 "cells": [
  {
   "cell_type": "code",
   "execution_count": 1,
   "metadata": {
    "collapsed": true
   },
   "outputs": [],
   "source": [
    "import numpy as np\n",
    "import matplotlib.pyplot as plt\n",
    "\n",
    "import pandas as pd\n",
    "\n",
    "%matplotlib inline"
   ]
  },
  {
   "cell_type": "code",
   "execution_count": 2,
   "metadata": {
    "collapsed": false
   },
   "outputs": [],
   "source": [
    "datain = np.loadtxt('13a_input.txt',comments=None,delimiter='\\n',dtype=str)#,usecols=(0,2))#,delimiter=' ')\n",
    "#datain = np.loadtxt('13a_input_test.txt',comments=None,delimiter='\\n',dtype=str)#,usecols=(0,2))#,delimiter=' ')"
   ]
  },
  {
   "cell_type": "code",
   "execution_count": 3,
   "metadata": {
    "collapsed": false
   },
   "outputs": [],
   "source": [
    "#datain"
   ]
  },
  {
   "cell_type": "code",
   "execution_count": 4,
   "metadata": {
    "collapsed": false
   },
   "outputs": [],
   "source": [
    "arrdatain = np.zeros((len(datain[0]),len(datain))).astype(str)\n",
    "\n",
    "#convert datain to np array\n",
    "for i in range(arrdatain.shape[0]):\n",
    "    for j in range(arrdatain.shape[1]):\n",
    "        arrdatain[i,j] = datain[j][i]\n",
    "        \n",
    "#arrdatain.T"
   ]
  },
  {
   "cell_type": "code",
   "execution_count": 5,
   "metadata": {
    "collapsed": false
   },
   "outputs": [
    {
     "data": {
      "text/plain": [
       "[[6, 34, 'd'],\n",
       " [9, 15, 'r'],\n",
       " [12, 86, 'd'],\n",
       " [47, 22, 'u'],\n",
       " [47, 129, 'l'],\n",
       " [50, 146, 'l'],\n",
       " [61, 4, 'l'],\n",
       " [69, 95, 'l'],\n",
       " [74, 26, 'r'],\n",
       " [76, 15, 'l'],\n",
       " [78, 128, 'r'],\n",
       " [107, 53, 'd'],\n",
       " [112, 50, 'd'],\n",
       " [125, 108, 'd'],\n",
       " [133, 102, 'r'],\n",
       " [136, 56, 'd'],\n",
       " [137, 100, 'd']]"
      ]
     },
     "execution_count": 5,
     "metadata": {},
     "output_type": "execute_result"
    }
   ],
   "source": [
    "# Find carts, note their position and direction, replace them with tracks\n",
    "cars = []\n",
    "\n",
    "for i in range(arrdatain.shape[0]):\n",
    "    for j in range(arrdatain.shape[1]):\n",
    "        if arrdatain[i,j] == '>':\n",
    "            cars.append([i,j,'r'])\n",
    "            arrdatain[i,j] = '-'\n",
    "            \n",
    "        if arrdatain[i,j] == 'v':\n",
    "            cars.append([i,j,'d'])\n",
    "            arrdatain[i,j] = '|' \n",
    "            \n",
    "        if arrdatain[i,j] == '<':\n",
    "            cars.append([i,j,'l'])\n",
    "            arrdatain[i,j] = '-' \n",
    "            \n",
    "        if arrdatain[i,j] == '^':\n",
    "            cars.append([i,j,'u'])\n",
    "            arrdatain[i,j] = '|'\n",
    "            \n",
    "cars\n",
    "#print(arrdatain.T)"
   ]
  },
  {
   "cell_type": "code",
   "execution_count": 6,
   "metadata": {
    "collapsed": false
   },
   "outputs": [],
   "source": [
    "class Cars:\n",
    "    def __init__(self,xy):\n",
    "        self.xy = np.array(xy) # location of car\n",
    "        self.udlr = None # direction of travel: 'u','d','l','r'\n",
    "        self.nxturn = 'L' # at intersections, the cars always turn L=>S=>R=>L=>... etc.\n",
    "        \n",
    "    def move(self):\n",
    "        if self.udlr == 'u':\n",
    "            self.xy += np.array([0,-1])\n",
    "            if arrdatain[self.xy[0],self.xy[1]] == '/':\n",
    "                self.cw()\n",
    "            elif arrdatain[self.xy[0],self.xy[1]] == '\\\\':\n",
    "                self.ccw()\n",
    "            elif arrdatain[self.xy[0],self.xy[1]] == '+':\n",
    "                self.turn()\n",
    "            \n",
    "        if self.udlr == 'd':\n",
    "            self.xy += np.array([0,1])\n",
    "            if arrdatain[self.xy[0],self.xy[1]] == '/':\n",
    "                self.cw()\n",
    "            elif arrdatain[self.xy[0],self.xy[1]] == '\\\\':\n",
    "                self.ccw()\n",
    "            elif arrdatain[self.xy[0],self.xy[1]] == '+':\n",
    "                self.turn()\n",
    "            \n",
    "        if self.udlr == 'l':\n",
    "            self.xy += np.array([-1,0])\n",
    "            if arrdatain[self.xy[0],self.xy[1]] == '/':\n",
    "                self.ccw()\n",
    "            elif arrdatain[self.xy[0],self.xy[1]] == '\\\\':\n",
    "                self.cw()\n",
    "            elif arrdatain[self.xy[0],self.xy[1]] == '+':\n",
    "                self.turn()\n",
    "            \n",
    "        if self.udlr == 'r':\n",
    "            self.xy += np.array([1,0])\n",
    "            if arrdatain[self.xy[0],self.xy[1]] == '/':\n",
    "                self.ccw()\n",
    "            elif arrdatain[self.xy[0],self.xy[1]] == '\\\\':\n",
    "                self.cw()\n",
    "            elif arrdatain[self.xy[0],self.xy[1]] == '+':\n",
    "                self.turn()\n",
    "\n",
    "            \n",
    "    \n",
    "    def cw(self):\n",
    "        self.udlr = ['u','r','d','l','u'][['u','r','d','l','u'].index(self.udlr)+1]\n",
    "        \n",
    "    def ccw(self):\n",
    "        self.udlr = ['u','l','d','r','u'][['u','l','d','r','u'].index(self.udlr)+1]\n",
    "        \n",
    "    def turn(self):\n",
    "        if self.nxturn == 'L':\n",
    "            self.ccw()\n",
    "        elif self.nxturn == 'R':\n",
    "            self.cw()\n",
    "        \n",
    "        self.nxturn = ['L','S','R','L'][['L','S','R','L'].index(self.nxturn)+1]\n",
    "\n",
    "\n",
    "def coll_search(car_dictionary):\n",
    "    # Test for collision using dictionary sets returns True when collision occurrs \n",
    "    list_xy = [] # initialize list\n",
    "    for key,item in car_dictionary.items():\n",
    "        list_xy.append(str(item.xy.tolist())) # populate list with strings\n",
    "        \n",
    "    return len(set(list_xy)) != len(list_xy)\n",
    "\n",
    "def coll_loc (car_dictionary):\n",
    "    # find the location of the collision \n",
    "    list_xy = [] # initialize list\n",
    "    for key,item in car_dictionary.items():\n",
    "        list_xy.append(str(item.xy.tolist())) # populate list with strings\n",
    "        \n",
    "    seen = {}\n",
    "    dupes = []\n",
    "\n",
    "    for item in list_xy:\n",
    "        if item not in seen:\n",
    "            seen[item] = 1\n",
    "        else:\n",
    "            if seen[item] == 1:\n",
    "                dupes.append(item)\n",
    "            seen[item] += 1\n",
    "    \n",
    "    return dupes\n",
    "\n",
    "\n",
    "def findorder(car_dictionary):\n",
    "    # Sort cars by coordinate on y coordinate, then x coordinate\n",
    "    dtype = [('car', int), ('x', int), ('y', int)]\n",
    "    arr_car = np.zeros((len(car_dictionary))).astype(dtype)\n",
    "    for i in car_dictionary:\n",
    "        arr_car[i] = i,car_dictionary[i].xy[0],car_dictionary[i].xy[1]\n",
    "\n",
    "    # Then sort\n",
    "    arr_car = np.sort(arr_car, order=['y', 'x'])\n",
    "\n",
    "    # Then extract the order\n",
    "    order = []\n",
    "    for i in range(len(cdic)):\n",
    "        order.append(arr_car[i][0])\n",
    "        \n",
    "    return order"
   ]
  },
  {
   "cell_type": "code",
   "execution_count": 7,
   "metadata": {
    "collapsed": false
   },
   "outputs": [],
   "source": [
    "# Create a Car object for each car and a dictionary to find them\n",
    "\n",
    "cdic = {}\n",
    "\n",
    "for i in range(len(cars)):\n",
    "    vars()['car'+str(i)] = Cars(i)\n",
    "    cdic[i] = vars()['car'+str(i)]\n",
    "    vars()['car'+str(i)].xy = np.array([cars[i][0],cars[i][1]])\n",
    "    vars()['car'+str(i)].udlr = cars[i][2]\n",
    "    \n",
    " "
   ]
  },
  {
   "cell_type": "code",
   "execution_count": 8,
   "metadata": {
    "collapsed": false,
    "scrolled": true
   },
   "outputs": [
    {
     "name": "stdout",
     "output_type": "stream",
     "text": [
      "Collision Detected at:\n",
      "['[31, 146]']\n"
     ]
    }
   ],
   "source": [
    "# Run this:\n",
    "\n",
    "run = True\n",
    "tick = 0\n",
    "\n",
    "while run == True:\n",
    "    \n",
    "    order = findorder(cdic)\n",
    "\n",
    "    for car in order:\n",
    "        cdic[car].move()\n",
    "        if coll_search(cdic) == True:\n",
    "            print('Collision Detected at:')\n",
    "            print(coll_loc(cdic))\n",
    "            run = False\n",
    "            break\n",
    "            \n",
    "    tick += 1\n",
    "#    print('Tick',tick)\n",
    "#    print(cdic[0].xy,cdic[1].xy)\n",
    "        \n",
    "# not 31,146    \n",
    "    \n",
    "    \n"
   ]
  },
  {
   "cell_type": "code",
   "execution_count": null,
   "metadata": {
    "collapsed": true
   },
   "outputs": [],
   "source": []
  }
 ],
 "metadata": {
  "anaconda-cloud": {},
  "kernelspec": {
   "display_name": "Python [default]",
   "language": "python",
   "name": "python3"
  },
  "language_info": {
   "codemirror_mode": {
    "name": "ipython",
    "version": 3
   },
   "file_extension": ".py",
   "mimetype": "text/x-python",
   "name": "python",
   "nbconvert_exporter": "python",
   "pygments_lexer": "ipython3",
   "version": "3.5.5"
  }
 },
 "nbformat": 4,
 "nbformat_minor": 1
}
