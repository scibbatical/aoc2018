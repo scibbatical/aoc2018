{
 "cells": [
  {
   "cell_type": "code",
   "execution_count": 119,
   "metadata": {
    "collapsed": true
   },
   "outputs": [],
   "source": [
    "import numpy as np\n",
    "import matplotlib.pyplot as plt\n",
    "\n",
    "%matplotlib inline"
   ]
  },
  {
   "cell_type": "code",
   "execution_count": 264,
   "metadata": {
    "collapsed": true
   },
   "outputs": [],
   "source": [
    "# The input\n",
    "datain = np.loadtxt('07a_input.txt',comments=None,dtype=str,usecols=(1,7))"
   ]
  },
  {
   "cell_type": "code",
   "execution_count": 177,
   "metadata": {
    "collapsed": false,
    "scrolled": true
   },
   "outputs": [
    {
     "data": {
      "text/plain": [
       "array(['A', 'B', 'C', 'D', 'E', 'F', 'H', 'I', 'K', 'M', 'O', 'P', 'Q',\n",
       "       'R', 'S', 'T', 'U', 'V', 'W', 'X', 'Y', 'Z'], dtype='<U1')"
      ]
     },
     "execution_count": 177,
     "metadata": {},
     "output_type": "execute_result"
    }
   ],
   "source": [
    "np.unique(datain[:,1])"
   ]
  },
  {
   "cell_type": "code",
   "execution_count": null,
   "metadata": {
    "collapsed": true
   },
   "outputs": [],
   "source": [
    "# gates not depending on others are: GJLN ! Start with G first because of alphabetical req.\n"
   ]
  },
  {
   "cell_type": "code",
   "execution_count": 178,
   "metadata": {
    "collapsed": false
   },
   "outputs": [],
   "source": [
    "# this is the test data\n",
    "#datain = np.array([['C','A'],['C','F'],['A','B'],['A','D'],['B','E'],['D','E'],['F','E']])"
   ]
  },
  {
   "cell_type": "code",
   "execution_count": 260,
   "metadata": {
    "collapsed": true
   },
   "outputs": [],
   "source": [
    "# define a function that finds the index of a letter\n",
    "def idx(letter):\n",
    "    return key.find(letter)\n",
    "\n",
    "# define a function that determines if a set of instructions has been satisfied\n",
    "def letterready(letter):\n",
    "    ready = True\n",
    "    for test in conditions(letter):\n",
    "        if executed[idx(test[0])] == 0:\n",
    "            ready = False\n",
    "    return ready\n",
    "\n",
    "# define a function that determines which set of instructions applies to a letter\n",
    "def conditions(letter):\n",
    "    return datain[np.where(datain[:,1] == letter)[0]]"
   ]
  },
  {
   "cell_type": "code",
   "execution_count": 273,
   "metadata": {
    "collapsed": true
   },
   "outputs": [],
   "source": [
    "key = 'ABCDEFGHIJKLMNOPQRSTUVWXYZ'\n",
    "\n",
    "# initialize the executed array...\n",
    "executed = np.zeros((26,1))\n",
    "for letter in 'G':\n",
    "#for letter in 'C':\n",
    "    executed[idx(letter)] = 1\n",
    "    \n",
    "# ... and initialize the final order\n",
    "fini = 'G'\n",
    "#fini = 'C'\n",
    "    "
   ]
  },
  {
   "cell_type": "code",
   "execution_count": 274,
   "metadata": {
    "collapsed": false
   },
   "outputs": [
    {
     "data": {
      "text/plain": [
       "'GJKLDFNPTMQXIYHUVREOZSAWCB'"
      ]
     },
     "execution_count": 274,
     "metadata": {},
     "output_type": "execute_result"
    }
   ],
   "source": [
    "for loop in range(25):\n",
    "#for loop in range(5):\n",
    "    \n",
    "    search = True\n",
    "    si = -1\n",
    "    \n",
    "    while search == True:\n",
    "        si += 1\n",
    "        if letterready(key[si]) and key[si] not in fini:\n",
    "            search = False\n",
    "            executed[si] = 1\n",
    "            fini += key[si]\n",
    "            \n",
    "fini\n",
    "\n",
    "# not GJLNDFKPTMQXIYHUVREOZSAWCB"
   ]
  },
  {
   "cell_type": "code",
   "execution_count": null,
   "metadata": {
    "collapsed": true
   },
   "outputs": [],
   "source": []
  },
  {
   "cell_type": "code",
   "execution_count": null,
   "metadata": {
    "collapsed": true
   },
   "outputs": [],
   "source": []
  }
 ],
 "metadata": {
  "anaconda-cloud": {},
  "kernelspec": {
   "display_name": "Python [default]",
   "language": "python",
   "name": "python3"
  },
  "language_info": {
   "codemirror_mode": {
    "name": "ipython",
    "version": 3
   },
   "file_extension": ".py",
   "mimetype": "text/x-python",
   "name": "python",
   "nbconvert_exporter": "python",
   "pygments_lexer": "ipython3",
   "version": "3.5.5"
  }
 },
 "nbformat": 4,
 "nbformat_minor": 1
}
