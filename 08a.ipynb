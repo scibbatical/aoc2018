{
 "cells": [
  {
   "cell_type": "code",
   "execution_count": 2,
   "metadata": {
    "collapsed": true
   },
   "outputs": [],
   "source": [
    "import numpy as np\n",
    "import matplotlib.pyplot as plt\n",
    "\n",
    "import pandas as pd\n",
    "\n",
    "%matplotlib inline"
   ]
  },
  {
   "cell_type": "code",
   "execution_count": 130,
   "metadata": {
    "collapsed": false
   },
   "outputs": [],
   "source": [
    "# The input\n",
    "datain = np.loadtxt('08a_input.txt',comments=None,dtype=str).astype(int)\n",
    "\n",
    "# or test data\n",
    "#datain = np.array([2,3,0,3,10,11,12,1,1,0,1,99,2,1,1,2]).astype(int)\n",
    "\n",
    "# create a list of outputs\n",
    "nodelist = []"
   ]
  },
  {
   "cell_type": "code",
   "execution_count": 131,
   "metadata": {
    "collapsed": false
   },
   "outputs": [],
   "source": [
    "def noder(standard,working,parentidx):\n",
    "    if working[0] == 0:\n",
    "        #extract node\n",
    "        nodelist.append(working[:working[1]+2])\n",
    "        if parentidx != -2:\n",
    "            standard[parentidx] += -1            \n",
    "        return np.append(standard[:parentidx+2], standard[(parentidx+2) + (working[1]+2):])\n",
    "        \n",
    "    else:\n",
    "        return noder(standard, working[2:], parentidx+2)"
   ]
  },
  {
   "cell_type": "code",
   "execution_count": 132,
   "metadata": {
    "collapsed": false
   },
   "outputs": [],
   "source": [
    "result = np.copy(datain)\n",
    "\n",
    "while len(result) != 0:\n",
    "    result = noder(result,result,-2)\n",
    "    \n",
    "#print(nodelist)"
   ]
  },
  {
   "cell_type": "code",
   "execution_count": 133,
   "metadata": {
    "collapsed": false
   },
   "outputs": [
    {
     "data": {
      "text/plain": [
       "37439"
      ]
     },
     "execution_count": 133,
     "metadata": {},
     "output_type": "execute_result"
    }
   ],
   "source": [
    "#nodelist is now a list of arrays. Sum those metadata.\n",
    "\n",
    "meta = 0\n",
    "\n",
    "for entry in nodelist:\n",
    "    meta += np.sum(entry[2:])\n",
    "    \n",
    "meta"
   ]
  }
 ],
 "metadata": {
  "anaconda-cloud": {},
  "kernelspec": {
   "display_name": "Python [default]",
   "language": "python",
   "name": "python3"
  },
  "language_info": {
   "codemirror_mode": {
    "name": "ipython",
    "version": 3
   },
   "file_extension": ".py",
   "mimetype": "text/x-python",
   "name": "python",
   "nbconvert_exporter": "python",
   "pygments_lexer": "ipython3",
   "version": "3.5.5"
  }
 },
 "nbformat": 4,
 "nbformat_minor": 1
}
